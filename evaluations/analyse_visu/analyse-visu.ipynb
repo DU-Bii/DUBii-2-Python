{
 "cells": [
  {
   "cell_type": "markdown",
   "id": "nearby-child",
   "metadata": {},
   "source": [
    "# Analyse de données et visualisation\n",
    "\n",
    "L'objectif de ce projet personnel est d'analyser quelques données et de les visualiser avec Matplotlib.\n",
    "\n",
    "Benoist et Hubert suivent un cours de programmation Python.\n",
    "\n",
    "Les fichiers `benoist.txt` et `hubert.txt` contiennent les notes qu'ont obtenues ces étudiants au cours du semestre pour le cours de Python. Chaque étudiant a obtenu 5 notes entre 0 et 20. Ces notes correspondent aux évaluations des mois de janvier, février, mars, avril et mai.\n",
    "\n",
    "## Extraction des notes\n",
    "\n",
    "Pour chacun de ces étudiants :\n",
    "\n",
    "- ouvrez et lisez le fichier de notes correspondant, \n",
    "- stockez les notes dans une liste sous forme de *float*, \n",
    "- puis affichez cette liste.\n",
    "\n",
    "#### Extraction des notes de Benoist\n",
    "\n",
    "Dans la cellule ci-dessous, écrivez le code pour extraire les notes :"
   ]
  },
  {
   "cell_type": "code",
   "execution_count": null,
   "id": "manual-huntington",
   "metadata": {},
   "outputs": [],
   "source": []
  },
  {
   "cell_type": "markdown",
   "id": "humanitarian-drove",
   "metadata": {},
   "source": [
    "#### Extraction des notes d'Hubert\n",
    "\n",
    "Dans la cellule ci-dessous, écrivez le code pour extraire les notes :"
   ]
  },
  {
   "cell_type": "code",
   "execution_count": null,
   "id": "searching-victim",
   "metadata": {},
   "outputs": [],
   "source": []
  },
  {
   "cell_type": "markdown",
   "id": "stuffed-medium",
   "metadata": {},
   "source": [
    "## Comparaison des notes de Benoist et Hubert\n",
    "\n",
    "Créez un graphique avec Matplotlib qui va afficher les notes de Benoist et d'Hubert :\n",
    "\n",
    "- Les notes sont affichées dans un graphique sous forme de nuage de points (fonction `.scatter()`)\n",
    "- Les notes de Benoist sont affichées sous forme de ronds bleus ([documentation](https://matplotlib.org/stable/api/markers_api.html).\n",
    "- Les notes d'Hubert sont affichées sous forme de carrés verts.\n",
    "- Pour les valeurs des abscisses, utilisez la liste suivante :\n",
    "    ```\n",
    "    [\"janvier\", \"février\", \"mars\", \"avril\", \"mai\"]\n",
    "    ```\n",
    "- L'étiquette de l'axe des abscisses est : `mois`\n",
    "- L'étiquette de l'axe des ordonnées est : `notes`\n",
    "\n",
    "Dans la cellule ci-dessous, écrivez le code pour charger le sous-module `pyplot` du module `matplotlib` :"
   ]
  },
  {
   "cell_type": "code",
   "execution_count": null,
   "id": "acknowledged-wisdom",
   "metadata": {},
   "outputs": [],
   "source": []
  },
  {
   "cell_type": "markdown",
   "id": "pediatric-colon",
   "metadata": {},
   "source": [
    "Dans la cellule ci-dessous, écrivez le code pour dessiner le graphique :"
   ]
  },
  {
   "cell_type": "code",
   "execution_count": null,
   "id": "rubber-pastor",
   "metadata": {},
   "outputs": [],
   "source": []
  },
  {
   "cell_type": "markdown",
   "id": "opposite-scratch",
   "metadata": {},
   "source": [
    "## Calcul de la moyennes des notes de Benoist et Hubert\n",
    "\n",
    "Utilisez les fonctions `sum()` et `len()` pour calculer les moyennes de Benoist et Hubert. Affichez ensuite cette moyenne.\n",
    "\n",
    "\n",
    "Dans la cellule ci-dessous, écrivez le code pour calculer puis affichez la moyenne de Benoist :"
   ]
  },
  {
   "cell_type": "code",
   "execution_count": null,
   "id": "interim-technical",
   "metadata": {},
   "outputs": [],
   "source": []
  },
  {
   "cell_type": "markdown",
   "id": "incorporated-bottom",
   "metadata": {},
   "source": [
    "Dans la cellule ci-dessous, écrivez le code pour calculer puis affichez la moyenne d'Hubert :"
   ]
  },
  {
   "cell_type": "code",
   "execution_count": null,
   "id": "bright-associate",
   "metadata": {},
   "outputs": [],
   "source": []
  },
  {
   "cell_type": "markdown",
   "id": "seven-austria",
   "metadata": {},
   "source": [
    "## Comparaison des moyennes des notes de Benoist et Hubert\n",
    "\n",
    "Créez un graphique avec Matplotlib qui va afficher les moyennes des notes de Benoist et d'Hubert :\n",
    "\n",
    "- Les moyennes sont affichées dans un diagramme en batons.\n",
    "- L'étiquette de l'axe des abscisses est : `étudiants`\n",
    "- L'étiquette de l'axe des ordonnées est : `moyennes des notes de Python`\n",
    "\n",
    "Dans la cellule ci-dessous, écrivez le code pour dessiner le graphique :"
   ]
  },
  {
   "cell_type": "markdown",
   "id": "domestic-cookie",
   "metadata": {},
   "source": []
  },
  {
   "cell_type": "code",
   "execution_count": null,
   "id": "faced-captain",
   "metadata": {},
   "outputs": [],
   "source": []
  },
  {
   "cell_type": "code",
   "execution_count": null,
   "id": "judicial-brush",
   "metadata": {},
   "outputs": [],
   "source": []
  },
  {
   "cell_type": "code",
   "execution_count": null,
   "id": "several-tomorrow",
   "metadata": {},
   "outputs": [],
   "source": []
  }
 ],
 "metadata": {
  "kernelspec": {
   "display_name": "Python 3",
   "language": "python",
   "name": "python3"
  },
  "language_info": {
   "codemirror_mode": {
    "name": "ipython",
    "version": 3
   },
   "file_extension": ".py",
   "mimetype": "text/x-python",
   "name": "python",
   "nbconvert_exporter": "python",
   "pygments_lexer": "ipython3",
   "version": "3.7.9"
  }
 },
 "nbformat": 4,
 "nbformat_minor": 5
}
