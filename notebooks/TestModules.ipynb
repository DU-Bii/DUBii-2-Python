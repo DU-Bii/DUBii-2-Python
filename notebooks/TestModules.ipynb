{
 "cells": [
  {
   "cell_type": "markdown",
   "id": "meaning-honduras",
   "metadata": {},
   "source": [
    "# Import des modules"
   ]
  },
  {
   "cell_type": "code",
   "execution_count": 35,
   "id": "bound-channels",
   "metadata": {},
   "outputs": [],
   "source": [
    "import numpy\n",
    "import scipy\n",
    "import pandas\n",
    "import xlrd\n",
    "import matplotlib\n",
    "import bokeh\n",
    "import jupyterlab\n",
    "import ipywidgets\n",
    "import sklearn\n",
    "import skbio\n",
    "import Bio # Biopython\n",
    "import seaborn\n",
    "import watermark\n",
    "import BCBio"
   ]
  },
  {
   "cell_type": "markdown",
   "id": "dominant-stupid",
   "metadata": {},
   "source": [
    "# Versions des modules"
   ]
  },
  {
   "cell_type": "code",
   "execution_count": 36,
   "id": "alpha-sheffield",
   "metadata": {},
   "outputs": [
    {
     "name": "stdout",
     "output_type": "stream",
     "text": [
      "numpy: 1.19.2\n",
      "scipy: 1.5.2\n",
      "pandas: 1.1.5\n",
      "xlrd: 2.0.1\n",
      "matplotlib: 3.3.2\n",
      "bokeh: 2.2.3\n",
      "jupyterlab: 2.2.6\n",
      "ipywidgets: 7.6.3\n",
      "sklearn: 0.23.2\n",
      "skbio: 0.5.2\n",
      "Bio: 1.78\n",
      "seaborn: 0.11.1\n",
      "watermark: 2.0.2\n",
      "BCBio: 0.6.6\n"
     ]
    }
   ],
   "source": [
    "print(\"numpy:\", numpy.__version__)\n",
    "print(\"scipy:\", scipy.__version__)\n",
    "print(\"pandas:\", pandas.__version__)\n",
    "print(\"xlrd:\", xlrd.__version__)\n",
    "print(\"matplotlib:\", matplotlib.__version__)\n",
    "print(\"bokeh:\", bokeh.__version__)\n",
    "print(\"jupyterlab:\", jupyterlab.__version__)\n",
    "print(\"ipywidgets:\", ipywidgets.__version__)\n",
    "print(\"sklearn:\", sklearn.__version__)\n",
    "print(\"skbio:\", skbio.__version__)\n",
    "print(\"Bio:\", Bio.__version__)\n",
    "print(\"seaborn:\", seaborn.__version__)\n",
    "print(\"watermark:\", watermark.__version__)\n",
    "print(\"BCBio:\", BCBio.GFF.__version__)"
   ]
  },
  {
   "cell_type": "code",
   "execution_count": null,
   "id": "enabling-marking",
   "metadata": {},
   "outputs": [],
   "source": []
  }
 ],
 "metadata": {
  "kernelspec": {
   "display_name": "Python 3",
   "language": "python",
   "name": "python3"
  },
  "language_info": {
   "codemirror_mode": {
    "name": "ipython",
    "version": 3
   },
   "file_extension": ".py",
   "mimetype": "text/x-python",
   "name": "python",
   "nbconvert_exporter": "python",
   "pygments_lexer": "ipython3",
   "version": "3.6.12"
  }
 },
 "nbformat": 4,
 "nbformat_minor": 5
}
