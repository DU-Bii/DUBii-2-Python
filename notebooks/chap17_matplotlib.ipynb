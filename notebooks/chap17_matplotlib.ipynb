{
 "cells": [
  {
   "cell_type": "markdown",
   "id": "excessive-intellectual",
   "metadata": {},
   "source": [
    "# Matplotlib\n",
    "\n",
    "- Bibliothèque graphique.\n",
    "- Pas installée de base dans Python.\n",
    "\n",
    "## Chargement du (sous-)module"
   ]
  },
  {
   "cell_type": "code",
   "execution_count": null,
   "id": "billion-sharing",
   "metadata": {},
   "outputs": [],
   "source": []
  },
  {
   "cell_type": "markdown",
   "id": "generic-amino",
   "metadata": {},
   "source": [
    "## Données\n",
    "\n",
    "Évolution de la concentration d'un produit dans le sang (exprimé en mg/L) en fonction du temps (exprimé en heure).\n",
    "\n",
    "| Temps (h) | Concentration (mg/L) |\n",
    "|:---------:|:--------------------:|\n",
    "|     1     |          3.5         |\n",
    "|     2     |          5.8         |\n",
    "|     3     |          9.1         |\n",
    "|     4     |         11.8         |\n",
    "|     6     |         17.5         |\n",
    "|     7     |         21.3         |\n",
    "|     9     |         26.8         |"
   ]
  },
  {
   "cell_type": "code",
   "execution_count": 1,
   "id": "whole-intervention",
   "metadata": {},
   "outputs": [],
   "source": [
    "temps = [1, 2, 3, 4, 6, 7, 9]\n",
    "concentration = [5.5, 7.2, 11.8, 13.6, 19.1, 21.7, 29.4]"
   ]
  },
  {
   "cell_type": "markdown",
   "id": "early-houston",
   "metadata": {},
   "source": [
    "## Nuage de points"
   ]
  },
  {
   "cell_type": "code",
   "execution_count": null,
   "id": "marked-symbol",
   "metadata": {},
   "outputs": [],
   "source": []
  },
  {
   "cell_type": "code",
   "execution_count": null,
   "id": "subtle-delta",
   "metadata": {},
   "outputs": [],
   "source": []
  },
  {
   "cell_type": "code",
   "execution_count": null,
   "id": "constitutional-preference",
   "metadata": {},
   "outputs": [],
   "source": []
  },
  {
   "cell_type": "code",
   "execution_count": null,
   "id": "noticed-anaheim",
   "metadata": {},
   "outputs": [],
   "source": []
  },
  {
   "cell_type": "code",
   "execution_count": null,
   "id": "limiting-boundary",
   "metadata": {},
   "outputs": [],
   "source": []
  },
  {
   "cell_type": "markdown",
   "id": "electrical-surgery",
   "metadata": {},
   "source": [
    "markers : https://matplotlib.org/stable/api/markers_api.html"
   ]
  },
  {
   "cell_type": "markdown",
   "id": "early-wisconsin",
   "metadata": {},
   "source": [
    "## Lignes"
   ]
  },
  {
   "cell_type": "code",
   "execution_count": 31,
   "id": "wireless-piece",
   "metadata": {},
   "outputs": [
    {
     "data": {
      "image/png": "[encoded data removed]",
      "text/plain": [
       "<Figure size 432x288 with 1 Axes>"
      ]
     },
     "metadata": {
      "needs_background": "light"
     },
     "output_type": "display_data"
    }
   ],
   "source": [
    "plt.plot(temps, concentration, color=\"green\", linestyle=\"--\", linewidth=5, \n",
    "         marker=\"o\", markersize=14, markerfacecolor=\"orange\")\n",
    "plt.xlabel(\"Temps (h)\")\n",
    "plt.ylabel(\"Concentration (mg/L)\")\n",
    "plt.title(\"Concentration de produit en fonction du temps\");"
   ]
  },
  {
   "cell_type": "markdown",
   "id": "alien-pickup",
   "metadata": {},
   "source": [
    "Cheat sheets : https://github.com/matplotlib/cheatsheets"
   ]
  },
  {
   "cell_type": "markdown",
   "id": "viral-glasgow",
   "metadata": {},
   "source": [
    "## Diagramme en bâtons"
   ]
  },
  {
   "cell_type": "code",
   "execution_count": 42,
   "id": "nearby-substance",
   "metadata": {},
   "outputs": [],
   "source": [
    "bases = [\"A\", \"T\", \"C\", \"G\"]\n",
    "distribution = [85, 59, 68, 74]"
   ]
  },
  {
   "cell_type": "code",
   "execution_count": null,
   "id": "hollywood-humanity",
   "metadata": {},
   "outputs": [],
   "source": []
  },
  {
   "cell_type": "code",
   "execution_count": null,
   "id": "demographic-cleaner",
   "metadata": {},
   "outputs": [],
   "source": []
  },
  {
   "cell_type": "code",
   "execution_count": null,
   "id": "mediterranean-storm",
   "metadata": {},
   "outputs": [],
   "source": []
  },
  {
   "cell_type": "code",
   "execution_count": null,
   "id": "digital-journey",
   "metadata": {},
   "outputs": [],
   "source": []
  },
  {
   "cell_type": "code",
   "execution_count": null,
   "id": "surprised-feedback",
   "metadata": {},
   "outputs": [],
   "source": []
  },
  {
   "cell_type": "code",
   "execution_count": 61,
   "id": "english-collapse",
   "metadata": {},
   "outputs": [
    {
     "data": {
      "image/png": "[encoded data removed]",
      "text/plain": [
       "<Figure size 432x288 with 1 Axes>"
      ]
     },
     "metadata": {
      "needs_background": "light"
     },
     "output_type": "display_data"
    }
   ],
   "source": [
    "plt.barh(bases, distribution, color=\"palegreen\", edgecolor=\"green\", linewidth=2)\n",
    "plt.ylabel(\"Bases\")\n",
    "plt.xlabel(\"Nombre de bases\")\n",
    "plt.title(\"nombre de bases dans ma séquence\");\n",
    "plt.savefig(\"toto.png\", dpi=300)"
   ]
  },
  {
   "cell_type": "code",
   "execution_count": null,
   "id": "sophisticated-pocket",
   "metadata": {},
   "outputs": [],
   "source": []
  },
  {
   "cell_type": "markdown",
   "id": "lesbian-cheat",
   "metadata": {},
   "source": [
    "Une superbe référence : https://www.python-graph-gallery.com/   \n",
    "Très complète avec Seaborn, **Matplotlib** et Plotly"
   ]
  }
 ],
 "metadata": {
  "kernelspec": {
   "display_name": "Python 3",
   "language": "python",
   "name": "python3"
  },
  "language_info": {
   "codemirror_mode": {
    "name": "ipython",
    "version": 3
   },
   "file_extension": ".py",
   "mimetype": "text/x-python",
   "name": "python",
   "nbconvert_exporter": "python",
   "pygments_lexer": "ipython3",
   "version": "3.7.9"
  }
 },
 "nbformat": 4,
 "nbformat_minor": 5
}
