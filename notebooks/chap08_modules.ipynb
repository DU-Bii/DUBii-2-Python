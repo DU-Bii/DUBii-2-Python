{
 "cells": [
  {
   "cell_type": "markdown",
   "metadata": {},
   "source": [
    "# Modules"
   ]
  },
  {
   "cell_type": "markdown",
   "metadata": {},
   "source": [
    "## Rappel\n",
    "\n",
    "Les modules sont des programmes Python qui contiennent des fonctions que l'on est amené à réutiliser souvent (on les appelle aussi bibliothèques ou libraries). Ce sont des « boîtes à outils » qui vont vous être très utiles."
   ]
  },
  {
   "cell_type": "markdown",
   "metadata": {},
   "source": [
    "## Importation de modules"
   ]
  },
  {
   "cell_type": "markdown",
   "metadata": {},
   "source": [
    "L'utilisation de la syntaxe `import module` permet d'importer toute une série de fonctions organisées par « thèmes ».\n",
    "\n",
    "L'instruction `import` donne accès à toutes les fonctions du module importé (ici le module `random`)."
   ]
  },
  {
   "cell_type": "code",
   "execution_count": null,
   "metadata": {},
   "outputs": [],
   "source": [
    "import random\n",
    "random.randint(0, 10)"
   ]
  },
  {
   "cell_type": "markdown",
   "metadata": {},
   "source": [
    "**Remarque :** la fonction renvoie un nombre entier tiré aléatoirement entre 0 inclus et 10 inclus."
   ]
  },
  {
   "cell_type": "markdown",
   "metadata": {},
   "source": [
    "Autre exemple : le module `math` permet d'accèder aux fonctions trigonométriques sinus et cosinus, et à la constante π."
   ]
  },
  {
   "cell_type": "code",
   "execution_count": null,
   "metadata": {},
   "outputs": [],
   "source": [
    "import math\n",
    "math.cos(math.pi / 2)\n",
    "math.sin(math.pi / 2)"
   ]
  },
  {
   "cell_type": "markdown",
   "metadata": {},
   "source": [
    "À l'aide du mot-clé `from`, on peut importer une fonction spécifique d'un module donné."
   ]
  },
  {
   "cell_type": "code",
   "execution_count": null,
   "metadata": {},
   "outputs": [],
   "source": [
    "from random import randint\n",
    "randint(0,10)"
   ]
  },
  {
   "cell_type": "markdown",
   "metadata": {},
   "source": [
    "L'instruction `from random import *` importe toutes les fonctions du module random."
   ]
  },
  {
   "cell_type": "markdown",
   "metadata": {},
   "source": [
    "Dans la pratique, plutôt que de charger toutes les fonctions d'un module en une seule fois via `from random import *`, nous vous conseillons de charger le module seul de la manière suivante `import random` et d'appeler explicitement les fonctions voulues `random.randint(0,2)`."
   ]
  },
  {
   "cell_type": "markdown",
   "metadata": {},
   "source": [
    "Il est également possible de définir un **alias** (un nom plus court) pour un module."
   ]
  },
  {
   "cell_type": "code",
   "execution_count": null,
   "metadata": {},
   "outputs": [],
   "source": [
    "import random as rand\n",
    "rand.randint(1, 10)"
   ]
  },
  {
   "cell_type": "markdown",
   "metadata": {},
   "source": [
    "L'instruction `del` permet de vider de la mémoire, un module déjà chargé."
   ]
  },
  {
   "cell_type": "code",
   "execution_count": null,
   "metadata": {},
   "outputs": [],
   "source": [
    "import random\n",
    "random.randint(0,10)"
   ]
  },
  {
   "cell_type": "code",
   "execution_count": null,
   "metadata": {},
   "outputs": [],
   "source": [
    "del random\n",
    "random.randint(0,10)"
   ]
  },
  {
   "cell_type": "markdown",
   "metadata": {},
   "source": [
    "## Obtenir de l'aide sur les modules importés"
   ]
  },
  {
   "cell_type": "markdown",
   "metadata": {},
   "source": [
    "Pour obtenir de l'aide sur un module, il suffit d'utiliser la commande `help()`."
   ]
  },
  {
   "cell_type": "code",
   "execution_count": null,
   "metadata": {},
   "outputs": [],
   "source": [
    "import random\n",
    "help(random)"
   ]
  },
  {
   "cell_type": "markdown",
   "metadata": {},
   "source": [
    "La commande `help()` est une commande plus générale permettant d'avoir de l'aide sur n'importe quel objet chargé en mémoire."
   ]
  },
  {
   "cell_type": "code",
   "execution_count": null,
   "metadata": {},
   "outputs": [],
   "source": [
    "ex = ['un', 'deux', 'trois']\n",
    "help(ex)"
   ]
  },
  {
   "cell_type": "markdown",
   "metadata": {},
   "source": [
    "Pour connaître d'un seul coup d’œil toutes les méthodes ou variables associées à un objet, utilisez la fonction `dir()`."
   ]
  },
  {
   "cell_type": "code",
   "execution_count": null,
   "metadata": {},
   "outputs": [],
   "source": [
    "import math\n",
    "dir(math)"
   ]
  },
  {
   "cell_type": "markdown",
   "metadata": {},
   "source": [
    "## Module sys : passage d'arguments"
   ]
  },
  {
   "cell_type": "markdown",
   "metadata": {
    "jupyter": {
     "outputs_hidden": true
    }
   },
   "source": [
    "Le module `sys` contient des fonctions et des variables spécifiques à l'interpréteur Python lui-même. Ce module est particulièrement intéressant pour récupérer les arguments passés à un script Python lorsque celui-ci est appelé en ligne de commande."
   ]
  },
  {
   "cell_type": "markdown",
   "metadata": {},
   "source": [
    "Prenons pour exemple le script nommé `arguments.py` contenant :\n",
    "\n",
    "```\n",
    "import sys\n",
    "print(sys.argv)\n",
    "```"
   ]
  },
  {
   "cell_type": "markdown",
   "metadata": {},
   "source": [
    "Dans un terminal, on va exécuter le script `arguments.py` avec plusieurs arguments : `python arguments.py ARG1 ARG2 ARG3 ARG4`.\n",
    "\n",
    "On va obtenir ceci : `['arguments.py', 'ARG1', 'ARG2', 'ARG3', 'ARG4']`, qui est le contenu de la variable `sys.argv` (liste qui contient tous les arguments de la ligne de commande, y compris le nom du script). On peut donc accéder à chacun des arguments du script avec `sys.argv[1]`, `sys.argv[2]`, ..."
   ]
  },
  {
   "cell_type": "markdown",
   "metadata": {},
   "source": [
    "La fonction `sys.exit()` est utile pour quitter un script Python. On peut donner un argument à cette fonction (en général une chaîne de caractères) qui sera renvoyé au moment où Python quittera le script.\n",
    "\n",
    "On va créer un script nommé `module_exit.py` contenant :\n",
    "\n",
    "```\n",
    "import sys\n",
    "\n",
    "if len(sys.argv) != 2:\n",
    "    sys.exit(\"ERREUR : il faut exactement un argument.\")\n",
    "\n",
    "print(\"Argument vaut : {}\".format(sys.argv[1]))\n",
    "```\n",
    "\n",
    "Dans un terminal, on va exécuter le script `module_exit.py` de deux manières :\n",
    "\n",
    "- `python module_exit.py ARG1 ARG2 ARG3` où l'on va obtenir `ERREUR : il faut exactement un argument.`\n",
    "- `python module_exit.py ARG1` où l'on va obtenir : `Argument vaut : ARG1`"
   ]
  },
  {
   "cell_type": "markdown",
   "metadata": {},
   "source": [
    "**Remarque :** l'intérêt de récupérer des arguments passés dans la ligne de commande à l'appel du script est de pouvoir ensuite les utiliser dans le script.\n",
    "\n",
    "Prenons l'exemple cette fois-ci du script `lines_count.py` qui va prendre comme argument le nom d'un fichier puis afficher le nombre de lignes qu'il contient.\n",
    "\n",
    "Le script `lines_count.py` contient :\n",
    "\n",
    "```\n",
    "import sys\n",
    "\n",
    "if len(sys.argv) != 2:\n",
    "    sys.exit(\"ERREUR : il faut exactement un argument.\")\n",
    "\n",
    "nom_fichier = sys.argv[1]\n",
    "taille = 0\n",
    "with open(nom_fichier, \"r\") as f_in:\n",
    "    taille = len(f_in.readlines())\n",
    "\n",
    "print(\"{} contient {} lignes.\".format(nom_fichier, taille))\n",
    "```\n",
    "\n",
    "Exécutons ce script sur les fichiers de test utilisés précédemment :\n",
    "\n",
    "- `python lines_count.py files/courses.txt` qui renvoie `files/courses.txt contient 6 lignes.`\n",
    "- `python lines_count.py files/test_int.txt` qui renvoie `files/test_int.txt contient 2 lignes.`\n",
    "- `python lines_count.py files/toto.txt` qui renvoie une erreur du type `[...] FileNotFoundError: [Errno 2] No such file or directory: 'files/toto.txt'`"
   ]
  },
  {
   "cell_type": "markdown",
   "metadata": {},
   "source": [
    "## Module os : interaction avec le système d'exploitation"
   ]
  },
  {
   "cell_type": "markdown",
   "metadata": {},
   "source": [
    "Le module `os` gère l'interface avec le système d'exploitation.\n",
    "\n",
    "La fonction `os.path.exists()` est une fonction pratique de ce module qui vérifie la présence d'un fichier sur le disque dur."
   ]
  },
  {
   "cell_type": "code",
   "execution_count": null,
   "metadata": {},
   "outputs": [],
   "source": [
    "import sys\n",
    "import os\n",
    "if os.path.exists(\"toto.txt\"):\n",
    "    print(\"Le fichier est présent\")\n",
    "else:\n",
    "    sys.exit(\"Le fichier est absent\")"
   ]
  },
  {
   "cell_type": "markdown",
   "metadata": {},
   "source": [
    "La fonction `os.getcwd()` renvoie le répertoire courant (sous forme de chemin complet)."
   ]
  },
  {
   "cell_type": "code",
   "execution_count": null,
   "metadata": {},
   "outputs": [],
   "source": [
    "import os\n",
    "os.getcwd()"
   ]
  },
  {
   "cell_type": "markdown",
   "metadata": {},
   "source": [
    "La fonction `os.listdir()` renvoie le contenu du répertoire depuis lequel est lancé Python."
   ]
  },
  {
   "cell_type": "code",
   "execution_count": null,
   "metadata": {},
   "outputs": [],
   "source": [
    "import os\n",
    "os.listdir()"
   ]
  },
  {
   "cell_type": "markdown",
   "metadata": {},
   "source": [
    "Le résultat est renvoyé sous forme d'une liste contenant à la fois le nom des fichiers et des répertoires."
   ]
  }
 ],
 "metadata": {
  "kernelspec": {
   "display_name": "Python 3.7",
   "language": "python",
   "name": "python3"
  },
  "language_info": {
   "codemirror_mode": {
    "name": "ipython",
    "version": 3
   },
   "file_extension": ".py",
   "mimetype": "text/x-python",
   "name": "python",
   "nbconvert_exporter": "python",
   "pygments_lexer": "ipython3",
   "version": "3.7.8"
  }
 },
 "nbformat": 4,
 "nbformat_minor": 4
}
