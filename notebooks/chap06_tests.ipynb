{
 "cells": [
  {
   "cell_type": "markdown",
   "id": "noticed-reward",
   "metadata": {},
   "source": [
    "# Tests\n",
    "\n",
    "Rappel : les 4 grandes actions en programmation :\n",
    "\n",
    "1. Stocker de l'information (les variables)\n",
    "2. Manipuler de l'information (les opérateurs)\n",
    "3. Répéter des actions (les boucles)\n",
    "4. **Prendre des décisions** (les tests)"
   ]
  },
  {
   "cell_type": "markdown",
   "id": "stainless-lithuania",
   "metadata": {},
   "source": [
    "## Définitions"
   ]
  },
  {
   "cell_type": "code",
   "execution_count": null,
   "id": "legitimate-agriculture",
   "metadata": {},
   "outputs": [],
   "source": [
    "var = 2\n",
    "\n",
    "if var == 2:\n",
    "    print(\"Le test est vrai !\")"
   ]
  },
  {
   "cell_type": "code",
   "execution_count": null,
   "id": "complimentary-trick",
   "metadata": {},
   "outputs": [],
   "source": [
    "animal = \"souris\"\n",
    "\n",
    "#..."
   ]
  },
  {
   "cell_type": "code",
   "execution_count": null,
   "id": "apparent-zealand",
   "metadata": {},
   "outputs": [],
   "source": []
  },
  {
   "cell_type": "markdown",
   "id": "armed-reason",
   "metadata": {},
   "source": [
    "- opérateurs de comparaison : `==` `!=` `>` `>=` `<` `<=`\n",
    "- `:` après `if`\n",
    "- bloc d'instruction indenté"
   ]
  },
  {
   "cell_type": "markdown",
   "id": "nuclear-winning",
   "metadata": {},
   "source": [
    "## Tests à plusieurs cas\n",
    "\n",
    "si ... alors ..."
   ]
  },
  {
   "cell_type": "code",
   "execution_count": null,
   "id": "medium-passion",
   "metadata": {},
   "outputs": [],
   "source": [
    "var = 2\n",
    "\n",
    "if var == 2:\n",
    "    print(\"Le test est vrai !\")\n",
    "#..."
   ]
  },
  {
   "cell_type": "markdown",
   "id": "dying-analysis",
   "metadata": {},
   "source": [
    "⚠️\n",
    "- `:` après `if` et `else`\n",
    "- un bloc d'instruction après `if`\n",
    "- un bloc d'instruction après `else`"
   ]
  },
  {
   "cell_type": "code",
   "execution_count": null,
   "id": "romantic-profile",
   "metadata": {},
   "outputs": [],
   "source": []
  },
  {
   "cell_type": "code",
   "execution_count": null,
   "id": "dying-vermont",
   "metadata": {},
   "outputs": [],
   "source": []
  },
  {
   "cell_type": "markdown",
   "id": "considerable-efficiency",
   "metadata": {},
   "source": [
    "### Choix aléatoire d'une base d'ADN\n",
    "\n",
    "- module `random`\n",
    "- fonction `random.choice()`"
   ]
  },
  {
   "cell_type": "code",
   "execution_count": null,
   "id": "convinced-grace",
   "metadata": {},
   "outputs": [],
   "source": [
    "import random"
   ]
  },
  {
   "cell_type": "code",
   "execution_count": null,
   "id": "directed-suicide",
   "metadata": {},
   "outputs": [],
   "source": [
    "random.choice([\"Sandra\", \"Julie\", \"Magali\", \"Benoist\", \"Hubert\"])"
   ]
  },
  {
   "cell_type": "code",
   "execution_count": null,
   "id": "conventional-alberta",
   "metadata": {},
   "outputs": [],
   "source": []
  },
  {
   "cell_type": "code",
   "execution_count": null,
   "id": "still-grocery",
   "metadata": {},
   "outputs": [],
   "source": [
    "random.choice([\"a\", \"t\", \"c\", \"g\"])"
   ]
  },
  {
   "cell_type": "code",
   "execution_count": null,
   "id": "adapted-insertion",
   "metadata": {},
   "outputs": [],
   "source": []
  },
  {
   "cell_type": "code",
   "execution_count": null,
   "id": "circular-techno",
   "metadata": {},
   "outputs": [],
   "source": [
    "base = random.choice([\"a\", \"t\", \"c\", \"g\"])\n",
    "if base == \"a\":\n",
    "    print(\"choix d'une adénine\")\n",
    "elif base == \"t\":\n",
    "    print(\"choix d'une thymine\")\n",
    "elif base == \"c\":\n",
    "    print(\"choix d'une cytosine\")\n",
    "elif base == \"g\":\n",
    "    print(\"choix d'une guanine\")"
   ]
  },
  {
   "cell_type": "code",
   "execution_count": null,
   "id": "initial-personal",
   "metadata": {},
   "outputs": [],
   "source": []
  },
  {
   "cell_type": "markdown",
   "id": "present-artwork",
   "metadata": {},
   "source": [
    "⚠️\n",
    "- `:` après `if` et `elif`\n",
    "- un bloc d'instruction après `if`\n",
    "- un bloc d'instruction après `elif`"
   ]
  },
  {
   "cell_type": "code",
   "execution_count": null,
   "id": "pressed-trigger",
   "metadata": {},
   "outputs": [],
   "source": []
  },
  {
   "cell_type": "markdown",
   "id": "under-opera",
   "metadata": {},
   "source": [
    "## Importance de l'indentation"
   ]
  },
  {
   "cell_type": "code",
   "execution_count": null,
   "id": "juvenile-madness",
   "metadata": {},
   "outputs": [],
   "source": [
    "nombres = [4, 5, 6]\n",
    "for nb in nombres:\n",
    "    if nb == 5:\n",
    "        print(\"Le test est vrai\")\n",
    "        print(\"car la variable nb vaut {}\".format(nb))"
   ]
  },
  {
   "cell_type": "code",
   "execution_count": null,
   "id": "binding-identifier",
   "metadata": {},
   "outputs": [],
   "source": [
    "nombres = [4, 5, 6]\n",
    "for nb in nombres:\n",
    "    if nb == 5:\n",
    "        print(\"Le test est vrai\")\n",
    "    print(\"car la variable nb vaut {}\".format(nb))"
   ]
  },
  {
   "cell_type": "code",
   "execution_count": null,
   "id": "phantom-voluntary",
   "metadata": {},
   "outputs": [],
   "source": []
  },
  {
   "cell_type": "code",
   "execution_count": null,
   "id": "successful-pantyhose",
   "metadata": {},
   "outputs": [],
   "source": []
  },
  {
   "cell_type": "markdown",
   "id": "varying-bahamas",
   "metadata": {},
   "source": [
    "## Tests multiples\n",
    "\n",
    "opérateur booléen `or`\n",
    "\n",
    "| Condition 1 | Operator  | Condition 2 | Result   |\n",
    "|:-----------:|:---------:|:-----------:|:--------:|\n",
    "|     True    |    `or`   |     True    |   True   |\n",
    "|     True    |    `or`   |     False   |   True   |\n",
    "|     False   |    `or`   |     True    |   True   |\n",
    "|     False   |    `or`   |     False   |   False  |\n",
    "\n",
    "opérateur booléen `and`\n",
    "\n",
    "| Condition 1 | Operator  | Condition 2 | Result   |\n",
    "|:-----------:|:---------:|:-----------:|:--------:|\n",
    "|     True    |   `and`   |     True    |   True   |\n",
    "|     True    |   `and`   |     False   |   False  |\n",
    "|     False   |   `and`   |     True    |   False  |\n",
    "|     False   |   `and`   |     False   |   False  |"
   ]
  },
  {
   "cell_type": "code",
   "execution_count": null,
   "id": "incorrect-vocabulary",
   "metadata": {},
   "outputs": [],
   "source": [
    "True and False"
   ]
  },
  {
   "cell_type": "code",
   "execution_count": null,
   "id": "trained-imaging",
   "metadata": {},
   "outputs": [],
   "source": [
    "True or False"
   ]
  },
  {
   "cell_type": "code",
   "execution_count": null,
   "id": "injured-shower",
   "metadata": {},
   "outputs": [],
   "source": [
    "False and False"
   ]
  },
  {
   "cell_type": "code",
   "execution_count": null,
   "id": "composed-stomach",
   "metadata": {},
   "outputs": [],
   "source": []
  },
  {
   "cell_type": "markdown",
   "id": "patent-shirt",
   "metadata": {},
   "source": [
    "opérateur booléen `not`"
   ]
  },
  {
   "cell_type": "code",
   "execution_count": null,
   "id": "southern-casino",
   "metadata": {},
   "outputs": [],
   "source": [
    "not True"
   ]
  },
  {
   "cell_type": "code",
   "execution_count": null,
   "id": "removed-mailing",
   "metadata": {},
   "outputs": [],
   "source": [
    "not False"
   ]
  },
  {
   "cell_type": "code",
   "execution_count": null,
   "id": "adolescent-counter",
   "metadata": {},
   "outputs": [],
   "source": [
    "not (True or False)"
   ]
  },
  {
   "cell_type": "code",
   "execution_count": null,
   "id": "temporal-saturn",
   "metadata": {},
   "outputs": [],
   "source": [
    "(not False) and True"
   ]
  },
  {
   "cell_type": "code",
   "execution_count": null,
   "id": "catholic-villa",
   "metadata": {},
   "outputs": [],
   "source": []
  },
  {
   "cell_type": "code",
   "execution_count": null,
   "id": "extensive-length",
   "metadata": {},
   "outputs": [],
   "source": [
    "x = 2\n",
    "y = 2\n",
    "if x == 2 and y == 2:\n",
    "    print(\"le test est vrai\")"
   ]
  },
  {
   "cell_type": "code",
   "execution_count": null,
   "id": "checked-picture",
   "metadata": {},
   "outputs": [],
   "source": [
    "x = 2\n",
    "y = 2\n",
    "if x == 2:\n",
    "    if y == 2:\n",
    "        print(\"le test est vrai\")"
   ]
  },
  {
   "cell_type": "code",
   "execution_count": null,
   "id": "competent-librarian",
   "metadata": {},
   "outputs": [],
   "source": []
  },
  {
   "cell_type": "markdown",
   "id": "obvious-george",
   "metadata": {},
   "source": [
    "## Instructions `break` et `continue`\n",
    "\n",
    "Modifier le comportement d'une boucle"
   ]
  },
  {
   "cell_type": "code",
   "execution_count": null,
   "id": "backed-reflection",
   "metadata": {},
   "outputs": [],
   "source": [
    "for i in range(5):\n",
    "    if i > 2:\n",
    "        break\n",
    "    print(i)"
   ]
  },
  {
   "cell_type": "code",
   "execution_count": null,
   "id": "spectacular-tennessee",
   "metadata": {},
   "outputs": [],
   "source": [
    "for i in range(5):\n",
    "    if i == 2:\n",
    "        continue\n",
    "    print(i)"
   ]
  },
  {
   "cell_type": "code",
   "execution_count": null,
   "id": "industrial-lecture",
   "metadata": {},
   "outputs": [],
   "source": []
  },
  {
   "cell_type": "code",
   "execution_count": null,
   "id": "lesbian-flesh",
   "metadata": {},
   "outputs": [],
   "source": []
  },
  {
   "cell_type": "markdown",
   "id": "incident-communist",
   "metadata": {},
   "source": [
    "## Tests de valeur sur des *floats*"
   ]
  },
  {
   "cell_type": "code",
   "execution_count": null,
   "id": "serious-wagner",
   "metadata": {},
   "outputs": [],
   "source": [
    "1/10 == 0.1"
   ]
  },
  {
   "cell_type": "code",
   "execution_count": null,
   "id": "occasional-presentation",
   "metadata": {},
   "outputs": [],
   "source": [
    "(3 - 2.7) == 0.3"
   ]
  },
  {
   "cell_type": "code",
   "execution_count": null,
   "id": "gentle-mistress",
   "metadata": {},
   "outputs": [],
   "source": [
    "3 - 2.7"
   ]
  },
  {
   "cell_type": "code",
   "execution_count": null,
   "id": "similar-quilt",
   "metadata": {},
   "outputs": [],
   "source": []
  },
  {
   "cell_type": "code",
   "execution_count": null,
   "id": "desperate-patio",
   "metadata": {},
   "outputs": [],
   "source": []
  },
  {
   "cell_type": "code",
   "execution_count": null,
   "id": "moved-preparation",
   "metadata": {},
   "outputs": [],
   "source": [
    "print(\"0.3 est stocké comme :\")\n",
    "print(\"{:.60f}\".format(0.3))"
   ]
  },
  {
   "cell_type": "code",
   "execution_count": null,
   "id": "suited-hungary",
   "metadata": {},
   "outputs": [],
   "source": [
    "print(\"3.0 - 2.7 est stocké comme :\")\n",
    "print(\"{:.60f}\".format(3.0 - 2.7))"
   ]
  },
  {
   "cell_type": "code",
   "execution_count": null,
   "id": "olympic-night",
   "metadata": {},
   "outputs": [],
   "source": [
    "len(\"0.299999999999999988897769753748434595763683319091796875000000\")"
   ]
  },
  {
   "cell_type": "code",
   "execution_count": null,
   "id": "agreed-american",
   "metadata": {},
   "outputs": [],
   "source": []
  },
  {
   "cell_type": "code",
   "execution_count": null,
   "id": "subjective-function",
   "metadata": {},
   "outputs": [],
   "source": []
  },
  {
   "cell_type": "code",
   "execution_count": null,
   "id": "partial-mineral",
   "metadata": {},
   "outputs": [],
   "source": [
    "delta = 0.0001\n",
    "valeur = 3.0 - 2.7"
   ]
  },
  {
   "cell_type": "code",
   "execution_count": null,
   "id": "technological-ontario",
   "metadata": {},
   "outputs": [],
   "source": [
    "abs(valeur - 0.3) < delta"
   ]
  },
  {
   "cell_type": "code",
   "execution_count": null,
   "id": "surface-hughes",
   "metadata": {},
   "outputs": [],
   "source": []
  },
  {
   "cell_type": "markdown",
   "id": "detailed-treat",
   "metadata": {},
   "source": [
    "![](https://media.giphy.com/media/Ka2V8MODoM7vrUd7hm/giphy-downsized.gif)"
   ]
  },
  {
   "cell_type": "code",
   "execution_count": null,
   "id": "ongoing-concrete",
   "metadata": {},
   "outputs": [],
   "source": []
  },
  {
   "cell_type": "markdown",
   "id": "sized-belarus",
   "metadata": {},
   "source": [
    "## Exercices\n",
    "\n",
    "- 6.7.2 Séquence complémentaire d'un brin d'ADN\n",
    "- 6.7.6 Nombres pairs\n",
    "- 6.7.7 Conjecture de Syracuse\n"
   ]
  }
 ],
 "metadata": {
  "kernelspec": {
   "display_name": "Python 3",
   "language": "python",
   "name": "python3"
  },
  "language_info": {
   "codemirror_mode": {
    "name": "ipython",
    "version": 3
   },
   "file_extension": ".py",
   "mimetype": "text/x-python",
   "name": "python",
   "nbconvert_exporter": "python",
   "pygments_lexer": "ipython3",
   "version": "3.7.9"
  }
 },
 "nbformat": 4,
 "nbformat_minor": 5
}
