{
 "cells": [
  {
   "cell_type": "markdown",
   "metadata": {},
   "source": [
    "# Analyse de données et visualisation\n",
    "\n",
    "L'objectif de ce projet personnel est d'analyser quelques données et de les visualiser avec [Matplotlib](https://matplotlib.org/).\n",
    "\n",
    "Indiquez dans la cellule suivante votre nom et prénom."
   ]
  },
  {
   "cell_type": "markdown",
   "metadata": {},
   "source": [
    "Nom : \n",
    "\n",
    "Prénom : "
   ]
  },
  {
   "cell_type": "markdown",
   "metadata": {},
   "source": [
    "## Contexte\n",
    "\n",
    "Benoist et Hubert suivent un cours de programmation Python.\n",
    "\n",
    "Les fichiers `benoist.txt` et `hubert.txt` contiennent les notes qu'ont obtenues ces étudiants au cours du semestre pour le cours de Python. Chaque étudiant a obtenu 5 notes entre 0 et 20. Ces notes correspondent aux évaluations des mois de janvier, février, mars, avril et mai.\n",
    "\n",
    "## Extraction des notes\n",
    "\n",
    "Pour chacun de ces étudiants :\n",
    "\n",
    "- ouvrez et lisez le fichier de notes correspondant, \n",
    "- stockez les notes dans une liste sous forme de *float*, \n",
    "- puis affichez cette liste.\n",
    "\n",
    "#### Extraction des notes de Benoist\n",
    "\n",
    "Dans la cellule ci-dessous, écrivez le code pour extraire les notes :"
   ]
  },
  {
   "cell_type": "code",
   "execution_count": null,
   "metadata": {},
   "outputs": [],
   "source": []
  },
  {
   "cell_type": "markdown",
   "metadata": {},
   "source": [
    "#### Extraction des notes d'Hubert\n",
    "\n",
    "Dans la cellule ci-dessous, écrivez le code pour extraire les notes :"
   ]
  },
  {
   "cell_type": "code",
   "execution_count": null,
   "metadata": {},
   "outputs": [],
   "source": []
  },
  {
   "cell_type": "markdown",
   "metadata": {},
   "source": [
    "## Comparaison graphique des notes de Benoist et Hubert\n",
    "\n",
    "Créez un graphique avec Matplotlib qui va afficher les notes de Benoist et d'Hubert :\n",
    "\n",
    "- Les notes sont affichées dans un graphique sous forme de nuage de points (fonction `.scatter()`)\n",
    "- Les notes de Benoist sont affichées sous forme de ronds bleus ([documentation](https://matplotlib.org/stable/api/markers_api.html)).\n",
    "- Les notes d'Hubert sont affichées sous forme de carrés verts.\n",
    "- Pour les valeurs des abscisses, utilisez la liste suivante :\n",
    "    ```\n",
    "    [\"janvier\", \"février\", \"mars\", \"avril\", \"mai\"]\n",
    "    ```\n",
    "- L'étiquette de l'axe des abscisses est : `mois`\n",
    "- L'étiquette de l'axe des ordonnées est : `notes`\n",
    "- Le titre est : `Comparaison des notes` ([documentation](https://matplotlib.org/stable/api/_as_gen/matplotlib.pyplot.title.html#matplotlib.pyplot.title)).\n",
    "- La légende est affichée ([documentation](https://matplotlib.org/stable/api/_as_gen/matplotlib.pyplot.legend.html#matplotlib.pyplot.legend) et l'exemple 3 sur cette [page](https://www.geeksforgeeks.org/matplotlib-pyplot-legend-in-python/)).\n",
    "\n",
    "Dans la cellule ci-dessous, écrivez le code pour charger le sous-module `pyplot` du module `matplotlib` :"
   ]
  },
  {
   "cell_type": "code",
   "execution_count": null,
   "metadata": {},
   "outputs": [],
   "source": []
  },
  {
   "cell_type": "markdown",
   "metadata": {},
   "source": [
    "Dans la cellule ci-dessous, écrivez le code pour dessiner le graphique :"
   ]
  },
  {
   "cell_type": "code",
   "execution_count": null,
   "metadata": {},
   "outputs": [],
   "source": []
  },
  {
   "cell_type": "markdown",
   "metadata": {},
   "source": [
    "## Calcul de la moyenne des notes de Benoist et Hubert\n",
    "\n",
    "Calculez les moyennes de Benoist et Hubert puis affichez-les.\n",
    "\n",
    "Dans la cellule ci-dessous, écrivez le code pour calculer puis affichez la moyenne de Benoist :"
   ]
  },
  {
   "cell_type": "code",
   "execution_count": null,
   "metadata": {},
   "outputs": [],
   "source": []
  },
  {
   "cell_type": "markdown",
   "metadata": {},
   "source": [
    "Dans la cellule ci-dessous, écrivez le code pour calculer puis affichez la moyenne d'Hubert :"
   ]
  },
  {
   "cell_type": "code",
   "execution_count": null,
   "metadata": {},
   "outputs": [],
   "source": []
  },
  {
   "cell_type": "markdown",
   "metadata": {},
   "source": [
    "## Comparaison graphique des moyennes des notes de Benoist et Hubert\n",
    "\n",
    "Créez un graphique avec Matplotlib qui va afficher les moyennes des notes de Benoist et d'Hubert. Au préalable, stockez les moyennes de Benoist et Hubert dans la liste `moyennes` qui vous servira de valeurs pour vos batons. Puis créez la liste `etudiants` contenant `['Benoist', 'Hubert']` qui vous servira pour afficher les étiquettes sur l'axe des abscisses.\n",
    "\n",
    "- Les moyennes sont affichées dans un diagramme en batons.\n",
    "- L'étiquette de l'axe des abscisses est : `étudiants`\n",
    "- L'étiquette de l'axe des ordonnées est : `moyennes des notes de Python`\n",
    "- Le titre est : `Comparaison des moyennes des notes` ([documentation](https://matplotlib.org/stable/api/_as_gen/matplotlib.pyplot.title.html#matplotlib.pyplot.title)).\n",
    "\n",
    "Dans la cellule ci-dessous, écrivez le code pour dessiner le graphique :"
   ]
  },
  {
   "cell_type": "code",
   "execution_count": null,
   "metadata": {},
   "outputs": [],
   "source": []
  }
 ],
 "metadata": {
  "kernelspec": {
   "display_name": "Python 3.7",
   "language": "python",
   "name": "python3"
  },
  "language_info": {
   "codemirror_mode": {
    "name": "ipython",
    "version": 3
   },
   "file_extension": ".py",
   "mimetype": "text/x-python",
   "name": "python",
   "nbconvert_exporter": "python",
   "pygments_lexer": "ipython3",
   "version": "3.7.8"
  }
 },
 "nbformat": 4,
 "nbformat_minor": 5
}
