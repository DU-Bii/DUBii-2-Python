{
 "cells": [
  {
   "cell_type": "markdown",
   "metadata": {},
   "source": [
    "# Boucles et comparaisons"
   ]
  },
  {
   "cell_type": "markdown",
   "metadata": {},
   "source": [
    "## Boucle for"
   ]
  },
  {
   "cell_type": "code",
   "execution_count": 7,
   "metadata": {},
   "outputs": [
    {
     "name": "stdout",
     "output_type": "stream",
     "text": [
      "farine\n",
      "oeufs\n",
      "lait\n",
      "sucre\n",
      "levure\n",
      "beurre\n"
     ]
    }
   ],
   "source": [
    "ingredients = [\"farine\", \"oeufs\", \"lait\", \"sucre\", \"levure\", \"beurre\"]\n",
    "for ingredient in ingredients:\n",
    "    print(ingredient)"
   ]
  },
  {
   "cell_type": "markdown",
   "metadata": {},
   "source": [
    "**Remarques :**\n",
    "\n",
    "- la variable `ingredient` est appelée **variable d'itération** et change de valeur à chaque itération de la boucle ; elle peut être nommée comme on le souhaite\n",
    "- la ligne débutant par `for` se termine toujours par `:`\n",
    "- le **bloc d'instructions** est **indenté** (décalage vers la droite du contenu du bloc d'instructions)"
   ]
  },
  {
   "cell_type": "code",
   "execution_count": 8,
   "metadata": {},
   "outputs": [
    {
     "name": "stdout",
     "output_type": "stream",
     "text": [
      "farine\n",
      "-----\n",
      "oeufs\n",
      "-----\n",
      "lait\n",
      "-----\n",
      "sucre\n",
      "-----\n",
      "levure\n",
      "-----\n",
      "beurre\n",
      "-----\n",
      "Fin de la liste des ingrédients\n"
     ]
    }
   ],
   "source": [
    "for ingredient in ingredients:\n",
    "    print(ingredient)\n",
    "    print(\"-----\")\n",
    "print(\"Fin de la liste des ingrédients\")"
   ]
  },
  {
   "cell_type": "markdown",
   "metadata": {},
   "source": [
    "**Remarque :** l'indentation est très importante afin de savoir où commence et où se finit le bloc d'instructions. Ici, `print(\"Fin de la liste des ingrédients\")` ne fait pas partie du bloc d'instructions car n'est pas indenté. L'indentation est toujours identique ; ici, 4 espaces."
   ]
  },
  {
   "cell_type": "markdown",
   "metadata": {},
   "source": [
    "Les boucles `for` peuvent aussi utiliser des listes contenant des entiers (ou n'importe quel type de variable)."
   ]
  },
  {
   "cell_type": "code",
   "execution_count": 6,
   "metadata": {},
   "outputs": [
    {
     "name": "stdout",
     "output_type": "stream",
     "text": [
      "10\n",
      "20\n",
      "30\n",
      "40\n"
     ]
    }
   ],
   "source": [
    "for i in [10, 20, 30, 40]:\n",
    "    print(i)"
   ]
  },
  {
   "cell_type": "code",
   "execution_count": 10,
   "metadata": {},
   "outputs": [
    {
     "name": "stdout",
     "output_type": "stream",
     "text": [
      "0\n",
      "un\n",
      "2\n",
      "trois\n",
      "4\n",
      "cinq\n",
      "6\n"
     ]
    }
   ],
   "source": [
    "for element in [0, \"un\", 2, \"trois\", 4, \"cinq\", 6]:\n",
    "    print(element)"
   ]
  },
  {
   "cell_type": "markdown",
   "metadata": {},
   "source": [
    "La fonction `range()` permet de faire une boucle sur une liste d'entiers de manière automatique."
   ]
  },
  {
   "cell_type": "code",
   "execution_count": 11,
   "metadata": {},
   "outputs": [
    {
     "name": "stdout",
     "output_type": "stream",
     "text": [
      "0\n",
      "1\n",
      "2\n"
     ]
    }
   ],
   "source": [
    "for i in range(3):\n",
    "    print(i)"
   ]
  },
  {
   "cell_type": "markdown",
   "metadata": {},
   "source": [
    "**Remarques :** la fonction `range()` peut être utilisée telle quelle dans une boucle, sans préciser `list(range(3))`."
   ]
  },
  {
   "cell_type": "markdown",
   "metadata": {},
   "source": [
    "Il est possible de parcourir une liste par une itération sur ses indices."
   ]
  },
  {
   "cell_type": "code",
   "execution_count": 19,
   "metadata": {},
   "outputs": [
    {
     "name": "stdout",
     "output_type": "stream",
     "text": [
      "farine\n",
      "oeufs\n",
      "lait\n",
      "sucre\n"
     ]
    }
   ],
   "source": [
    "for i in range(4):\n",
    "    print(ingredients[i])"
   ]
  },
  {
   "cell_type": "code",
   "execution_count": 20,
   "metadata": {},
   "outputs": [
    {
     "name": "stdout",
     "output_type": "stream",
     "text": [
      "Ingrédient 0 : farine\n",
      "Ingrédient 1 : oeufs\n",
      "Ingrédient 2 : lait\n",
      "Ingrédient 3 : sucre\n",
      "Ingrédient 4 : levure\n",
      "Ingrédient 5 : beurre\n"
     ]
    }
   ],
   "source": [
    "for i in range(len(ingredients)):\n",
    "    print(\"Ingrédient {} : {}\".format(i, ingredients[i]))"
   ]
  },
  {
   "cell_type": "markdown",
   "metadata": {},
   "source": [
    "**Remarque :** la fonction `enumerate()` permet d'itérer sur les indices et les éléments eux-mêmes."
   ]
  },
  {
   "cell_type": "code",
   "execution_count": 21,
   "metadata": {},
   "outputs": [
    {
     "name": "stdout",
     "output_type": "stream",
     "text": [
      "Ingrédient 0 : farine\n",
      "Ingrédient 1 : oeufs\n",
      "Ingrédient 2 : lait\n",
      "Ingrédient 3 : sucre\n",
      "Ingrédient 4 : levure\n",
      "Ingrédient 5 : beurre\n"
     ]
    }
   ],
   "source": [
    "for i, ingredient in enumerate(ingredients):\n",
    "    print(\"Ingrédient {} : {}\".format(i, ingredient))"
   ]
  },
  {
   "cell_type": "markdown",
   "metadata": {},
   "source": [
    "## Comparaisons"
   ]
  },
  {
   "cell_type": "markdown",
   "metadata": {},
   "source": [
    "Python est capable d'effectuer toute une série de comparaisons entre le contenu de deux variables :\n",
    "\n",
    "- `==` : égal à\n",
    "- `!=` : différent de\n",
    "- `>` : supérieur à\n",
    "- `>=`:\tsupérieur ou égal à\n",
    "- `<` : inférieur à\n",
    "- `<=`:\tinférieur ou égal à"
   ]
  },
  {
   "cell_type": "code",
   "execution_count": 24,
   "metadata": {},
   "outputs": [
    {
     "data": {
      "text/plain": [
       "True"
      ]
     },
     "execution_count": 24,
     "metadata": {},
     "output_type": "execute_result"
    }
   ],
   "source": [
    "x = 5\n",
    "x == 5"
   ]
  },
  {
   "cell_type": "code",
   "execution_count": 26,
   "metadata": {},
   "outputs": [
    {
     "data": {
      "text/plain": [
       "False"
      ]
     },
     "execution_count": 26,
     "metadata": {},
     "output_type": "execute_result"
    }
   ],
   "source": [
    "x > 10"
   ]
  },
  {
   "cell_type": "code",
   "execution_count": 27,
   "metadata": {},
   "outputs": [
    {
     "data": {
      "text/plain": [
       "True"
      ]
     },
     "execution_count": 27,
     "metadata": {},
     "output_type": "execute_result"
    }
   ],
   "source": [
    "x < 10"
   ]
  },
  {
   "cell_type": "markdown",
   "metadata": {},
   "source": [
    "**Remarques :**\n",
    "\n",
    "- Python renvoie la valeur `True` si la comparaison est vraie et `False` si elle est fausse. `True` et `False` sont des **booléens**.\n",
    "- Attention à ne pas confondre l'**opérateur d'affectation** `=` qui **affecte** une valeur à une variable et l'**opérateur de comparaison** `==` qui **compare** les valeurs de deux variables."
   ]
  },
  {
   "cell_type": "markdown",
   "metadata": {},
   "source": [
    "Il est également possible de comparer des chaînes de caractères."
   ]
  },
  {
   "cell_type": "code",
   "execution_count": 28,
   "metadata": {},
   "outputs": [
    {
     "data": {
      "text/plain": [
       "False"
      ]
     },
     "execution_count": 28,
     "metadata": {},
     "output_type": "execute_result"
    }
   ],
   "source": [
    "ingredient = \"farine\"\n",
    "ingredient == \"far\""
   ]
  },
  {
   "cell_type": "code",
   "execution_count": 30,
   "metadata": {},
   "outputs": [
    {
     "data": {
      "text/plain": [
       "True"
      ]
     },
     "execution_count": 30,
     "metadata": {},
     "output_type": "execute_result"
    }
   ],
   "source": [
    "ingredient != \"far\""
   ]
  },
  {
   "cell_type": "code",
   "execution_count": 31,
   "metadata": {},
   "outputs": [
    {
     "data": {
      "text/plain": [
       "True"
      ]
     },
     "execution_count": 31,
     "metadata": {},
     "output_type": "execute_result"
    }
   ],
   "source": [
    "ingredient == 'farine'"
   ]
  },
  {
   "cell_type": "markdown",
   "metadata": {},
   "source": [
    "On peut aussi utiliser les opérateurs `<`, `>`, `<=` et `>=` sur les chaînes de caractères. Dans ce cas, l'ordre alphabétique est pris en compte, et plus spécifiquement l'ordre [ASCII](http://fr.wikipedia.org/wiki/American_Standard_Code_for_Information_Interchange)."
   ]
  },
  {
   "cell_type": "code",
   "execution_count": 32,
   "metadata": {},
   "outputs": [
    {
     "data": {
      "text/plain": [
       "True"
      ]
     },
     "execution_count": 32,
     "metadata": {},
     "output_type": "execute_result"
    }
   ],
   "source": [
    "\"a\" < \"b\""
   ]
  },
  {
   "cell_type": "code",
   "execution_count": 37,
   "metadata": {},
   "outputs": [
    {
     "data": {
      "text/plain": [
       "True"
      ]
     },
     "execution_count": 37,
     "metadata": {},
     "output_type": "execute_result"
    }
   ],
   "source": [
    "\"ab\" < \"ad\""
   ]
  },
  {
   "cell_type": "code",
   "execution_count": 38,
   "metadata": {},
   "outputs": [
    {
     "data": {
      "text/plain": [
       "False"
      ]
     },
     "execution_count": 38,
     "metadata": {},
     "output_type": "execute_result"
    }
   ],
   "source": [
    "\"ac\" < \"ab\""
   ]
  },
  {
   "cell_type": "markdown",
   "metadata": {},
   "source": [
    "**Remarque :** Python compare les deux chaînes de caractères, caractère par caractère, de la gauche vers la droite. Dès qu'un caractère est différent entre l'une et l'autre des deux chaînes, il considère que la chaîne la plus petite est celle qui présente le caractère ayant le plus petit code ASCII."
   ]
  },
  {
   "cell_type": "markdown",
   "metadata": {},
   "source": [
    "## Boucle while"
   ]
  },
  {
   "cell_type": "markdown",
   "metadata": {},
   "source": [
    "La boucle while permet d'exécuter une série d'instructions tant qu'une condition est vraie."
   ]
  },
  {
   "cell_type": "code",
   "execution_count": 40,
   "metadata": {},
   "outputs": [
    {
     "name": "stdout",
     "output_type": "stream",
     "text": [
      "1\n",
      "2\n",
      "3\n"
     ]
    }
   ],
   "source": [
    "i = 1\n",
    "while i <= 3:\n",
    "    print(i)\n",
    "    i = i + 1"
   ]
  },
  {
   "cell_type": "markdown",
   "metadata": {},
   "source": [
    "**Trois éléments importants** dans une boucle `while` :\n",
    "    \n",
    "- **initialisation** de la variable d'itération **avant la boucle** : `i = 1`\n",
    "- **test** de la variable d'itération associée **à l'instruction while** : `i <= 3`\n",
    "- **mise à jour** de la variable d'itération **dans le corps de la boucle** : `i = i + 1`"
   ]
  },
  {
   "cell_type": "markdown",
   "metadata": {},
   "source": [
    "L'instruction `break` **stoppe** la boucle."
   ]
  },
  {
   "cell_type": "code",
   "execution_count": 41,
   "metadata": {},
   "outputs": [
    {
     "name": "stdout",
     "output_type": "stream",
     "text": [
      "0\n",
      "1\n"
     ]
    }
   ],
   "source": [
    "for i in range(10):\n",
    "    if i > 1:\n",
    "        break\n",
    "    print(i)"
   ]
  },
  {
   "cell_type": "markdown",
   "metadata": {},
   "source": [
    "L'instruction `continue` passe à l'itération suivante."
   ]
  },
  {
   "cell_type": "code",
   "execution_count": 42,
   "metadata": {},
   "outputs": [
    {
     "name": "stdout",
     "output_type": "stream",
     "text": [
      "0\n",
      "2\n"
     ]
    }
   ],
   "source": [
    "for i in range(3):\n",
    "    if i == 1:\n",
    "        continue\n",
    "    print(i)"
   ]
  }
 ],
 "metadata": {
  "kernelspec": {
   "display_name": "Python 3.7",
   "language": "python",
   "name": "python3"
  },
  "language_info": {
   "codemirror_mode": {
    "name": "ipython",
    "version": 3
   },
   "file_extension": ".py",
   "mimetype": "text/x-python",
   "name": "python",
   "nbconvert_exporter": "python",
   "pygments_lexer": "ipython3",
   "version": "3.7.8"
  }
 },
 "nbformat": 4,
 "nbformat_minor": 5
}
