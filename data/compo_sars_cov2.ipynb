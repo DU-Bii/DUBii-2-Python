{
 "cells": [
  {
   "cell_type": "code",
   "execution_count": 1,
   "metadata": {},
   "outputs": [
    {
     "name": "stdout",
     "output_type": "stream",
     "text": [
      "La longueur du génome est 29903 bases\n",
      "nbA =  8954 bases ; %age A = 29.94 %\n",
      "nbT =  9594 bases ; %age T = 32.08 %\n",
      "nbG =  5863 bases ; %age G = 19.61 %\n",
      "nbC =  5492 bases ; %age C = 18.37 %\n"
     ]
    }
   ],
   "source": [
    "# Get sequence.\n",
    "seq = \"\"\n",
    "with open(\"MN908947.3.fasta\") as f:\n",
    "    for line in f:\n",
    "        if not line.startswith(\">\"):\n",
    "            seq += line.strip()\n",
    "\n",
    "# Basic method : count bases with a loop and if.\n",
    "nbA, nbT, nbG, nbC = 0, 0, 0, 0\n",
    "for base in seq:\n",
    "    if base == \"A\":\n",
    "        nbA += 1\n",
    "    if base == \"T\":\n",
    "        nbT += 1\n",
    "    if base == \"G\":\n",
    "        nbG += 1\n",
    "    if base == \"C\":\n",
    "        nbC += 1\n",
    "\n",
    "# Total length.\n",
    "L = len(seq)\n",
    "\n",
    "# Calc perc.\n",
    "percA = (nbA / L) * 100\n",
    "percT = (nbT / L) * 100\n",
    "percG = (nbG / L) * 100\n",
    "percC = (nbC / L) * 100\n",
    "\n",
    "# Print results.\n",
    "print(\"La longueur du génome est {} bases\".format(L))\n",
    "print(\"nbA = {:5d} bases ; %age A = {:5.2f} %\".format(nbA, percA))\n",
    "print(\"nbT = {:5d} bases ; %age T = {:5.2f} %\".format(nbT, percT))\n",
    "print(\"nbG = {:5d} bases ; %age G = {:5.2f} %\".format(nbG, percG))\n",
    "print(\"nbC = {:5d} bases ; %age C = {:5.2f} %\".format(nbC, percC))"
   ]
  },
  {
   "cell_type": "code",
   "execution_count": 2,
   "metadata": {},
   "outputs": [
    {
     "name": "stdout",
     "output_type": "stream",
     "text": [
      "La longueur du génome est 29903 bases\n",
      "nbA =  8954 bases ; %age A = 29.94 %\n",
      "nbT =  9594 bases ; %age T = 32.08 %\n",
      "nbG =  5863 bases ; %age G = 19.61 %\n",
      "nbC =  5492 bases ; %age C = 18.37 %\n"
     ]
    }
   ],
   "source": [
    "# Faster method: use .count() method.\n",
    "percA = (seq.count(\"A\") / L) * 100\n",
    "percT = (seq.count(\"T\") / L) * 100\n",
    "percG = (seq.count(\"G\") / L) * 100\n",
    "percC = (seq.count(\"C\") / L) * 100\n",
    "L = len(seq)\n",
    "\n",
    "# Print results.\n",
    "print(\"La longueur du génome est {} bases\".format(L))\n",
    "print(\"nbA = {:5d} bases ; %age A = {:5.2f} %\".format(nbA, percA))\n",
    "print(\"nbT = {:5d} bases ; %age T = {:5.2f} %\".format(nbT, percT))\n",
    "print(\"nbG = {:5d} bases ; %age G = {:5.2f} %\".format(nbG, percG))\n",
    "print(\"nbC = {:5d} bases ; %age C = {:5.2f} %\".format(nbC, percC))"
   ]
  },
  {
   "cell_type": "code",
   "execution_count": 5,
   "metadata": {},
   "outputs": [
    {
     "data": {
      "text/plain": [
       "Text(0.5, 1.0, 'Composition en base du SARS-CoV2')"
      ]
     },
     "execution_count": 5,
     "metadata": {},
     "output_type": "execute_result"
    },
    {
     "data": {
      "image/png": "[encoded data removed]",
      "text/plain": [
       "<Figure size 432x288 with 1 Axes>"
      ]
     },
     "metadata": {
      "needs_background": "light"
     },
     "output_type": "display_data"
    }
   ],
   "source": [
    "import matplotlib.pyplot as plt\n",
    "\n",
    "x = [0, 1, 2, 3]\n",
    "bases = [\"A\", \"T\", \"G\", \"C\"]\n",
    "\n",
    "# Make barplot.\n",
    "plt.bar(x, [percA, percT, percG, percC])\n",
    "plt.xticks(x, bases)\n",
    "plt.xlabel(\"Bases\")\n",
    "plt.ylabel(\"%\")\n",
    "plt.title(\"Composition en base du SARS-CoV2\")"
   ]
  }
 ],
 "metadata": {
  "kernelspec": {
   "display_name": "Python 3",
   "language": "python",
   "name": "python3"
  },
  "language_info": {
   "codemirror_mode": {
    "name": "ipython",
    "version": 3
   },
   "file_extension": ".py",
   "mimetype": "text/x-python",
   "name": "python",
   "nbconvert_exporter": "python",
   "pygments_lexer": "ipython3",
   "version": "3.7.3"
  }
 },
 "nbformat": 4,
 "nbformat_minor": 4
}
