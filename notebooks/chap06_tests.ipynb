{
 "cells": [
  {
   "cell_type": "markdown",
   "id": "moral-generic",
   "metadata": {},
   "source": [
    "# Tests\n",
    "\n",
    "Les 4 grandes actions en programmation :\n",
    "\n",
    "1. Stocker de l'information (les variables)\n",
    "2. Manipuler de l'information (les opérateurs)\n",
    "3. Répéter des actions (les boucles)\n",
    "4. **Prendre des décisions** (les tests)"
   ]
  },
  {
   "cell_type": "markdown",
   "id": "sublime-graphic",
   "metadata": {},
   "source": [
    "## Définitions"
   ]
  },
  {
   "cell_type": "code",
   "execution_count": 1,
   "id": "hazardous-immune",
   "metadata": {},
   "outputs": [
    {
     "name": "stdout",
     "output_type": "stream",
     "text": [
      "Le test est vrai !\n"
     ]
    }
   ],
   "source": [
    "x = 2\n",
    "if x == 2:\n",
    "    print(\"Le test est vrai !\")"
   ]
  },
  {
   "cell_type": "code",
   "execution_count": 4,
   "id": "finished-prince",
   "metadata": {},
   "outputs": [],
   "source": [
    "x = \"souris\"\n",
    "if x == \"tigre\":\n",
    "    print(\"Le test est vrai !\")"
   ]
  },
  {
   "cell_type": "code",
   "execution_count": null,
   "id": "italic-terminology",
   "metadata": {},
   "outputs": [],
   "source": []
  },
  {
   "cell_type": "markdown",
   "id": "visible-establishment",
   "metadata": {},
   "source": [
    "- opérateurs de comparaison : `==` `!=` `>` `>=` `<` `<=`\n",
    "- `:` après `if`\n",
    "- bloc d'instruction indenté"
   ]
  },
  {
   "cell_type": "markdown",
   "id": "retained-battle",
   "metadata": {},
   "source": [
    "## Tests à plusieurs cas\n",
    "\n",
    "si ... alors ..."
   ]
  },
  {
   "cell_type": "code",
   "execution_count": 5,
   "id": "sweet-prague",
   "metadata": {},
   "outputs": [
    {
     "name": "stdout",
     "output_type": "stream",
     "text": [
      "Le test est vrai !\n"
     ]
    }
   ],
   "source": [
    "x = 2\n",
    "if x == 2:\n",
    "    print(\"Le test est vrai !\")\n",
    "else:\n",
    "    print(\"Le test est faux !\")"
   ]
  },
  {
   "cell_type": "markdown",
   "id": "weighted-prime",
   "metadata": {},
   "source": [
    "⚠️\n",
    "- `:` après `if` et `else`\n",
    "- un bloc d'instruction après `if`\n",
    "- un bloc d'instruction après `else`"
   ]
  },
  {
   "cell_type": "code",
   "execution_count": null,
   "id": "auburn-skating",
   "metadata": {},
   "outputs": [],
   "source": []
  },
  {
   "cell_type": "code",
   "execution_count": null,
   "id": "ceramic-swedish",
   "metadata": {},
   "outputs": [],
   "source": []
  },
  {
   "cell_type": "markdown",
   "id": "major-introduction",
   "metadata": {},
   "source": [
    "### Choix aléatoire d'une base d'ADN\n",
    "\n",
    "- module `random`\n",
    "- fonction `random.choice()`"
   ]
  },
  {
   "cell_type": "code",
   "execution_count": 7,
   "id": "informal-picnic",
   "metadata": {},
   "outputs": [],
   "source": [
    "import random"
   ]
  },
  {
   "cell_type": "code",
   "execution_count": 15,
   "id": "banner-expert",
   "metadata": {},
   "outputs": [
    {
     "data": {
      "text/plain": [
       "'Magali'"
      ]
     },
     "execution_count": 15,
     "metadata": {},
     "output_type": "execute_result"
    }
   ],
   "source": [
    "random.choice([\"Sandra\", \"Julie\", \"Magali\", \"Benoist\", \"Hubert\"])"
   ]
  },
  {
   "cell_type": "code",
   "execution_count": null,
   "id": "social-given",
   "metadata": {},
   "outputs": [],
   "source": []
  },
  {
   "cell_type": "code",
   "execution_count": 16,
   "id": "minute-underwear",
   "metadata": {},
   "outputs": [
    {
     "data": {
      "text/plain": [
       "'a'"
      ]
     },
     "execution_count": 16,
     "metadata": {},
     "output_type": "execute_result"
    }
   ],
   "source": [
    "random.choice([\"a\", \"t\", \"c\", \"g\"])"
   ]
  },
  {
   "cell_type": "code",
   "execution_count": null,
   "id": "compound-bulgaria",
   "metadata": {},
   "outputs": [],
   "source": []
  },
  {
   "cell_type": "code",
   "execution_count": 17,
   "id": "numerical-spencer",
   "metadata": {},
   "outputs": [
    {
     "name": "stdout",
     "output_type": "stream",
     "text": [
      "choix d'une guanine\n"
     ]
    }
   ],
   "source": [
    "base = random.choice([\"a\", \"t\", \"c\", \"g\"])\n",
    "if base == \"a\":\n",
    "    print(\"choix d'une adénine\")\n",
    "elif base == \"t\":\n",
    "    print(\"choix d'une thymine\")\n",
    "elif base == \"c\":\n",
    "    print(\"choix d'une cytosine\")\n",
    "elif base == \"g\":\n",
    "    print(\"choix d'une guanine\")"
   ]
  },
  {
   "cell_type": "code",
   "execution_count": null,
   "id": "subjective-quarter",
   "metadata": {},
   "outputs": [],
   "source": []
  },
  {
   "cell_type": "markdown",
   "id": "theoretical-triumph",
   "metadata": {},
   "source": [
    "⚠️\n",
    "- `:` après `if` et `elif`\n",
    "- un bloc d'instruction après `if`\n",
    "- un bloc d'instruction après `elif`"
   ]
  },
  {
   "cell_type": "code",
   "execution_count": null,
   "id": "exciting-settle",
   "metadata": {},
   "outputs": [],
   "source": []
  },
  {
   "cell_type": "markdown",
   "id": "brief-lindsay",
   "metadata": {},
   "source": [
    "## Importance de l'indentation"
   ]
  },
  {
   "cell_type": "code",
   "execution_count": 19,
   "id": "constitutional-subcommittee",
   "metadata": {},
   "outputs": [
    {
     "name": "stdout",
     "output_type": "stream",
     "text": [
      "Le test est vrai\n",
      "car la variable nb vaut 5\n"
     ]
    }
   ],
   "source": [
    "nombres = [4, 5, 6]\n",
    "for nb in nombres:\n",
    "    if nb == 5:\n",
    "        print(\"Le test est vrai\")\n",
    "        print(\"car la variable nb vaut {}\".format(nb))"
   ]
  },
  {
   "cell_type": "code",
   "execution_count": 20,
   "id": "hollywood-victory",
   "metadata": {},
   "outputs": [
    {
     "name": "stdout",
     "output_type": "stream",
     "text": [
      "car la variable nb vaut 4\n",
      "Le test est vrai\n",
      "car la variable nb vaut 5\n",
      "car la variable nb vaut 6\n"
     ]
    }
   ],
   "source": [
    "nombres = [4, 5, 6]\n",
    "for nb in nombres:\n",
    "    if nb == 5:\n",
    "        print(\"Le test est vrai\")\n",
    "    print(\"car la variable nb vaut {}\".format(nb))"
   ]
  },
  {
   "cell_type": "code",
   "execution_count": null,
   "id": "driven-configuration",
   "metadata": {},
   "outputs": [],
   "source": []
  },
  {
   "cell_type": "code",
   "execution_count": null,
   "id": "enabling-uniform",
   "metadata": {},
   "outputs": [],
   "source": []
  },
  {
   "cell_type": "markdown",
   "id": "relative-portugal",
   "metadata": {},
   "source": [
    "## Tests multiples\n",
    "\n",
    "opérateur booléen `or`\n",
    "\n",
    "| Condition 1 | Operator  | Condition 2 | Result   |\n",
    "|:-----------:|:---------:|:-----------:|:--------:|\n",
    "|     True    |    `or`   |     True    |   True   |\n",
    "|     True    |    `or`   |     False   |   True   |\n",
    "|     False   |    `or`   |     True    |   True   |\n",
    "|     False   |    `or`   |     False   |   False  |\n",
    "\n",
    "opérateur booléen `and`\n",
    "\n",
    "| Condition 1 | Operator  | Condition 2 | Result   |\n",
    "|:-----------:|:---------:|:-----------:|:--------:|\n",
    "|     True    |   `and`   |     True    |   True   |\n",
    "|     True    |   `and`   |     False   |   False  |\n",
    "|     False   |   `and`   |     True    |   False  |\n",
    "|     False   |   `and`   |     False   |   False  |"
   ]
  },
  {
   "cell_type": "code",
   "execution_count": 24,
   "id": "paperback-looking",
   "metadata": {},
   "outputs": [
    {
     "data": {
      "text/plain": [
       "False"
      ]
     },
     "execution_count": 24,
     "metadata": {},
     "output_type": "execute_result"
    }
   ],
   "source": [
    "True and False"
   ]
  },
  {
   "cell_type": "code",
   "execution_count": 25,
   "id": "dominant-suggestion",
   "metadata": {},
   "outputs": [
    {
     "data": {
      "text/plain": [
       "True"
      ]
     },
     "execution_count": 25,
     "metadata": {},
     "output_type": "execute_result"
    }
   ],
   "source": [
    "True or False"
   ]
  },
  {
   "cell_type": "code",
   "execution_count": 26,
   "id": "cardiovascular-hygiene",
   "metadata": {},
   "outputs": [
    {
     "data": {
      "text/plain": [
       "False"
      ]
     },
     "execution_count": 26,
     "metadata": {},
     "output_type": "execute_result"
    }
   ],
   "source": [
    "False and False"
   ]
  },
  {
   "cell_type": "code",
   "execution_count": null,
   "id": "recorded-peripheral",
   "metadata": {},
   "outputs": [],
   "source": []
  },
  {
   "cell_type": "markdown",
   "id": "infrared-distributor",
   "metadata": {},
   "source": [
    "opérateur booléen `not`"
   ]
  },
  {
   "cell_type": "code",
   "execution_count": 27,
   "id": "simplified-intent",
   "metadata": {},
   "outputs": [
    {
     "data": {
      "text/plain": [
       "False"
      ]
     },
     "execution_count": 27,
     "metadata": {},
     "output_type": "execute_result"
    }
   ],
   "source": [
    "not True"
   ]
  },
  {
   "cell_type": "code",
   "execution_count": 28,
   "id": "related-mathematics",
   "metadata": {},
   "outputs": [
    {
     "data": {
      "text/plain": [
       "True"
      ]
     },
     "execution_count": 28,
     "metadata": {},
     "output_type": "execute_result"
    }
   ],
   "source": [
    "not False"
   ]
  },
  {
   "cell_type": "code",
   "execution_count": 31,
   "id": "personalized-prediction",
   "metadata": {},
   "outputs": [
    {
     "data": {
      "text/plain": [
       "False"
      ]
     },
     "execution_count": 31,
     "metadata": {},
     "output_type": "execute_result"
    }
   ],
   "source": [
    "not (True or False)"
   ]
  },
  {
   "cell_type": "code",
   "execution_count": 33,
   "id": "original-former",
   "metadata": {},
   "outputs": [
    {
     "data": {
      "text/plain": [
       "True"
      ]
     },
     "execution_count": 33,
     "metadata": {},
     "output_type": "execute_result"
    }
   ],
   "source": [
    "(not False) and True"
   ]
  },
  {
   "cell_type": "code",
   "execution_count": null,
   "id": "otherwise-browse",
   "metadata": {},
   "outputs": [],
   "source": []
  },
  {
   "cell_type": "code",
   "execution_count": 22,
   "id": "acknowledged-consumption",
   "metadata": {},
   "outputs": [
    {
     "name": "stdout",
     "output_type": "stream",
     "text": [
      "le test est vrai\n"
     ]
    }
   ],
   "source": [
    "x = 2\n",
    "y = 2\n",
    "if x == 2 and y == 2:\n",
    "    print(\"le test est vrai\")"
   ]
  },
  {
   "cell_type": "code",
   "execution_count": 23,
   "id": "dutch-rapid",
   "metadata": {},
   "outputs": [
    {
     "name": "stdout",
     "output_type": "stream",
     "text": [
      "le test est vrai\n"
     ]
    }
   ],
   "source": [
    "x = 2\n",
    "y = 2\n",
    "if x == 2:\n",
    "    if y == 2:\n",
    "        print(\"le test est vrai\")"
   ]
  },
  {
   "cell_type": "code",
   "execution_count": null,
   "id": "rolled-composite",
   "metadata": {},
   "outputs": [],
   "source": []
  },
  {
   "cell_type": "markdown",
   "id": "enhanced-manhattan",
   "metadata": {},
   "source": [
    "## Instructions `break` et `continue`\n",
    "\n",
    "Modifier le comportement d'une boucle"
   ]
  },
  {
   "cell_type": "code",
   "execution_count": 34,
   "id": "after-parts",
   "metadata": {},
   "outputs": [
    {
     "name": "stdout",
     "output_type": "stream",
     "text": [
      "0\n",
      "1\n",
      "2\n"
     ]
    }
   ],
   "source": [
    "for i in range(5):\n",
    "    if i > 2:\n",
    "        break\n",
    "    print(i)"
   ]
  },
  {
   "cell_type": "code",
   "execution_count": 35,
   "id": "least-assist",
   "metadata": {},
   "outputs": [
    {
     "name": "stdout",
     "output_type": "stream",
     "text": [
      "0\n",
      "1\n",
      "3\n",
      "4\n"
     ]
    }
   ],
   "source": [
    "for i in range(5):\n",
    "    if i == 2:\n",
    "        continue\n",
    "    print(i)"
   ]
  },
  {
   "cell_type": "code",
   "execution_count": null,
   "id": "pleasant-unemployment",
   "metadata": {},
   "outputs": [],
   "source": []
  },
  {
   "cell_type": "code",
   "execution_count": null,
   "id": "regular-aerospace",
   "metadata": {},
   "outputs": [],
   "source": []
  },
  {
   "cell_type": "markdown",
   "id": "million-general",
   "metadata": {},
   "source": [
    "## Tests de valeur sur des *floats*"
   ]
  },
  {
   "cell_type": "code",
   "execution_count": 37,
   "id": "convenient-corrections",
   "metadata": {},
   "outputs": [
    {
     "data": {
      "text/plain": [
       "True"
      ]
     },
     "execution_count": 37,
     "metadata": {},
     "output_type": "execute_result"
    }
   ],
   "source": [
    "1/10 == 0.1"
   ]
  },
  {
   "cell_type": "code",
   "execution_count": 38,
   "id": "level-shanghai",
   "metadata": {},
   "outputs": [
    {
     "data": {
      "text/plain": [
       "False"
      ]
     },
     "execution_count": 38,
     "metadata": {},
     "output_type": "execute_result"
    }
   ],
   "source": [
    "(3 - 2.7) == 0.3"
   ]
  },
  {
   "cell_type": "code",
   "execution_count": 39,
   "id": "familiar-corner",
   "metadata": {},
   "outputs": [
    {
     "data": {
      "text/plain": [
       "0.2999999999999998"
      ]
     },
     "execution_count": 39,
     "metadata": {},
     "output_type": "execute_result"
    }
   ],
   "source": [
    "3 - 2.7"
   ]
  },
  {
   "cell_type": "code",
   "execution_count": null,
   "id": "worse-intervention",
   "metadata": {},
   "outputs": [],
   "source": []
  },
  {
   "cell_type": "code",
   "execution_count": null,
   "id": "nutritional-shuttle",
   "metadata": {},
   "outputs": [],
   "source": []
  },
  {
   "cell_type": "code",
   "execution_count": 45,
   "id": "damaged-coating",
   "metadata": {},
   "outputs": [
    {
     "name": "stdout",
     "output_type": "stream",
     "text": [
      "0.3 est stocké comme :\n",
      "0.299999999999999988897769753748434595763683319091796875000000\n"
     ]
    }
   ],
   "source": [
    "print(\"0.3 est stocké comme :\")\n",
    "print(\"{:.60f}\".format(0.3))"
   ]
  },
  {
   "cell_type": "code",
   "execution_count": 46,
   "id": "packed-yield",
   "metadata": {},
   "outputs": [
    {
     "name": "stdout",
     "output_type": "stream",
     "text": [
      "3.0 - 2.7 est stocké comme :\n",
      "0.299999999999999822364316059974953532218933105468750000000000\n"
     ]
    }
   ],
   "source": [
    "print(\"3.0 - 2.7 est stocké comme :\")\n",
    "print(\"{:.60f}\".format(3.0 - 2.7))"
   ]
  },
  {
   "cell_type": "code",
   "execution_count": 47,
   "id": "physical-nothing",
   "metadata": {},
   "outputs": [
    {
     "data": {
      "text/plain": [
       "62"
      ]
     },
     "execution_count": 47,
     "metadata": {},
     "output_type": "execute_result"
    }
   ],
   "source": [
    "len(\"0.299999999999999988897769753748434595763683319091796875000000\")"
   ]
  },
  {
   "cell_type": "code",
   "execution_count": null,
   "id": "removed-listening",
   "metadata": {},
   "outputs": [],
   "source": []
  },
  {
   "cell_type": "code",
   "execution_count": null,
   "id": "related-result",
   "metadata": {},
   "outputs": [],
   "source": []
  },
  {
   "cell_type": "code",
   "execution_count": 50,
   "id": "convertible-titanium",
   "metadata": {},
   "outputs": [],
   "source": [
    "delta = 0.0001\n",
    "valeur = 3.0 - 2.7"
   ]
  },
  {
   "cell_type": "code",
   "execution_count": 51,
   "id": "elder-labor",
   "metadata": {},
   "outputs": [
    {
     "data": {
      "text/plain": [
       "True"
      ]
     },
     "execution_count": 51,
     "metadata": {},
     "output_type": "execute_result"
    }
   ],
   "source": [
    "abs(valeur - 0.3) < delta"
   ]
  },
  {
   "cell_type": "code",
   "execution_count": null,
   "id": "south-incentive",
   "metadata": {},
   "outputs": [],
   "source": []
  },
  {
   "cell_type": "markdown",
   "id": "local-genealogy",
   "metadata": {},
   "source": [
    "![](https://media.giphy.com/media/Ka2V8MODoM7vrUd7hm/giphy-downsized.gif)"
   ]
  },
  {
   "cell_type": "code",
   "execution_count": null,
   "id": "biological-anatomy",
   "metadata": {},
   "outputs": [],
   "source": []
  },
  {
   "cell_type": "markdown",
   "id": "thrown-blood",
   "metadata": {},
   "source": [
    "## Exercices\n",
    "\n",
    "- 6.7.2 Séquence complémentaire d'un brin d'ADN\n",
    "- 6.7.6 Nombres pairs\n",
    "- 6.7.7 Conjecture de Syracuse\n"
   ]
  }
 ],
 "metadata": {
  "kernelspec": {
   "display_name": "Python 3",
   "language": "python",
   "name": "python3"
  },
  "language_info": {
   "codemirror_mode": {
    "name": "ipython",
    "version": 3
   },
   "file_extension": ".py",
   "mimetype": "text/x-python",
   "name": "python",
   "nbconvert_exporter": "python",
   "pygments_lexer": "ipython3",
   "version": "3.7.9"
  }
 },
 "nbformat": 4,
 "nbformat_minor": 5
}
