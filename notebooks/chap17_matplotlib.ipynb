{
 "cells": [
  {
   "cell_type": "markdown",
   "id": "selective-shape",
   "metadata": {},
   "source": [
    "# Matplotlib\n",
    "\n",
    "- Bibliothèque graphique.\n",
    "- Pas installée de base dans Python.\n",
    "\n",
    "## Chargement du (sous-)module"
   ]
  },
  {
   "cell_type": "code",
   "execution_count": null,
   "id": "intellectual-republic",
   "metadata": {},
   "outputs": [],
   "source": []
  },
  {
   "cell_type": "markdown",
   "id": "fitting-tribune",
   "metadata": {},
   "source": [
    "## Données\n",
    "\n",
    "Évolution de la concentration d'un produit dans le sang (exprimé en mg/L) en fonction du temps (exprimé en heure).\n",
    "\n",
    "| Temps (h) | Concentration (mg/L) |\n",
    "|:---------:|:--------------------:|\n",
    "|     1     |          3.5         |\n",
    "|     2     |          5.8         |\n",
    "|     3     |          9.1         |\n",
    "|     4     |         11.8         |\n",
    "|     6     |         17.5         |\n",
    "|     7     |         21.3         |\n",
    "|     9     |         26.8         |"
   ]
  },
  {
   "cell_type": "code",
   "execution_count": null,
   "id": "widespread-giant",
   "metadata": {},
   "outputs": [],
   "source": [
    "temps = [1, 2, 3, 4, 6, 7, 9]\n",
    "concentration = [5.5, 7.2, 11.8, 13.6, 19.1, 21.7, 29.4]"
   ]
  },
  {
   "cell_type": "markdown",
   "id": "unexpected-morgan",
   "metadata": {},
   "source": [
    "## Nuage de points\n",
    "\n",
    "`plt.scatter()`"
   ]
  },
  {
   "cell_type": "code",
   "execution_count": null,
   "id": "improving-economics",
   "metadata": {},
   "outputs": [],
   "source": []
  },
  {
   "cell_type": "code",
   "execution_count": null,
   "id": "possible-wilson",
   "metadata": {},
   "outputs": [],
   "source": []
  },
  {
   "cell_type": "code",
   "execution_count": null,
   "id": "improving-coral",
   "metadata": {},
   "outputs": [],
   "source": []
  },
  {
   "cell_type": "code",
   "execution_count": null,
   "id": "electrical-internship",
   "metadata": {},
   "outputs": [],
   "source": []
  },
  {
   "cell_type": "code",
   "execution_count": null,
   "id": "minor-brunei",
   "metadata": {},
   "outputs": [],
   "source": []
  },
  {
   "cell_type": "markdown",
   "id": "minute-three",
   "metadata": {},
   "source": [
    "Choix des *markers* : https://matplotlib.org/stable/api/markers_api.html"
   ]
  },
  {
   "cell_type": "markdown",
   "id": "weekly-purse",
   "metadata": {},
   "source": [
    "## Lignes\n",
    "\n",
    "`plt.plot()`"
   ]
  },
  {
   "cell_type": "code",
   "execution_count": null,
   "id": "headed-compensation",
   "metadata": {},
   "outputs": [],
   "source": []
  },
  {
   "cell_type": "code",
   "execution_count": null,
   "id": "alpine-thread",
   "metadata": {},
   "outputs": [],
   "source": []
  },
  {
   "cell_type": "code",
   "execution_count": null,
   "id": "peaceful-incident",
   "metadata": {},
   "outputs": [],
   "source": []
  },
  {
   "cell_type": "code",
   "execution_count": null,
   "id": "enhanced-russia",
   "metadata": {},
   "outputs": [],
   "source": []
  },
  {
   "cell_type": "code",
   "execution_count": null,
   "id": "serial-homeless",
   "metadata": {},
   "outputs": [],
   "source": []
  },
  {
   "cell_type": "code",
   "execution_count": null,
   "id": "developed-jordan",
   "metadata": {},
   "outputs": [],
   "source": [
    "plt.plot(temps, concentration, color=\"green\", linestyle=\"--\", linewidth=5, \n",
    "         marker=\"o\", markersize=14, markerfacecolor=\"orange\")\n",
    "plt.xlabel(\"Temps (h)\")\n",
    "plt.ylabel(\"Concentration (mg/L)\")\n",
    "plt.title(\"Concentration de produit en fonction du temps\");"
   ]
  },
  {
   "cell_type": "markdown",
   "id": "possible-plane",
   "metadata": {},
   "source": [
    "Cheat sheets : https://github.com/matplotlib/cheatsheets"
   ]
  },
  {
   "cell_type": "markdown",
   "id": "average-mobile",
   "metadata": {},
   "source": [
    "## Diagramme en bâtons"
   ]
  },
  {
   "cell_type": "code",
   "execution_count": null,
   "id": "amateur-accountability",
   "metadata": {},
   "outputs": [],
   "source": [
    "bases = [\"A\", \"T\", \"C\", \"G\"]\n",
    "distribution = [85, 59, 68, 74]"
   ]
  },
  {
   "cell_type": "markdown",
   "id": "global-development",
   "metadata": {},
   "source": [
    "`plt.bar()`"
   ]
  },
  {
   "cell_type": "code",
   "execution_count": null,
   "id": "equipped-classroom",
   "metadata": {},
   "outputs": [],
   "source": []
  },
  {
   "cell_type": "code",
   "execution_count": null,
   "id": "plain-pioneer",
   "metadata": {},
   "outputs": [],
   "source": []
  },
  {
   "cell_type": "code",
   "execution_count": null,
   "id": "approved-baking",
   "metadata": {},
   "outputs": [],
   "source": []
  },
  {
   "cell_type": "code",
   "execution_count": null,
   "id": "virgin-replication",
   "metadata": {},
   "outputs": [],
   "source": []
  },
  {
   "cell_type": "markdown",
   "id": "attended-explorer",
   "metadata": {},
   "source": [
    "`plt.barh()`"
   ]
  },
  {
   "cell_type": "code",
   "execution_count": null,
   "id": "olive-extreme",
   "metadata": {},
   "outputs": [],
   "source": [
    "plt.barh(bases, distribution, color=\"palegreen\", edgecolor=\"green\", linewidth=2)\n",
    "plt.ylabel(\"Bases\")\n",
    "plt.xlabel(\"Nombre de bases\")\n",
    "plt.title(\"Nombre de bases dans ma séquence\");\n",
    "plt.savefig(\"composition_bases.png\", dpi=300)"
   ]
  },
  {
   "cell_type": "code",
   "execution_count": null,
   "id": "future-excitement",
   "metadata": {},
   "outputs": [],
   "source": []
  },
  {
   "cell_type": "markdown",
   "id": "handy-employee",
   "metadata": {},
   "source": [
    "Une superbe référence : https://www.python-graph-gallery.com/   \n",
    "Très complète avec Seaborn, **Matplotlib** et Plotly"
   ]
  }
 ],
 "metadata": {
  "kernelspec": {
   "display_name": "Python 3",
   "language": "python",
   "name": "python3"
  },
  "language_info": {
   "codemirror_mode": {
    "name": "ipython",
    "version": 3
   },
   "file_extension": ".py",
   "mimetype": "text/x-python",
   "name": "python",
   "nbconvert_exporter": "python",
   "pygments_lexer": "ipython3",
   "version": "3.7.9"
  }
 },
 "nbformat": 4,
 "nbformat_minor": 5
}
