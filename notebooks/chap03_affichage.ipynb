{
 "cells": [
  {
   "cell_type": "markdown",
   "id": "southeast-italy",
   "metadata": {},
   "source": [
    "# Affichage"
   ]
  },
  {
   "cell_type": "markdown",
   "id": "affecting-nepal",
   "metadata": {},
   "source": [
    "## La fonction print()"
   ]
  },
  {
   "cell_type": "markdown",
   "id": "hundred-vermont",
   "metadata": {},
   "source": [
    "La fonction `print()` affiche l'argument qu'on lui passe entre parenthèses **et** un retour à ligne."
   ]
  },
  {
   "cell_type": "code",
   "execution_count": 3,
   "id": "fitted-means",
   "metadata": {},
   "outputs": [
    {
     "name": "stdout",
     "output_type": "stream",
     "text": [
      "Bonjour tout le monde !\n"
     ]
    }
   ],
   "source": [
    "print(\"Bonjour tout le monde !\")"
   ]
  },
  {
   "cell_type": "markdown",
   "id": "rural-offense",
   "metadata": {},
   "source": [
    "Ce retour à ligne supplémentaire est ajouté **par défaut**. Si on ne souhaite pas l'afficher, on peut utiliser l'argument par \"mot-clé\" `end`."
   ]
  },
  {
   "cell_type": "code",
   "execution_count": 4,
   "id": "supreme-surname",
   "metadata": {},
   "outputs": [
    {
     "name": "stdout",
     "output_type": "stream",
     "text": [
      "Bonjour tout le monde !"
     ]
    }
   ],
   "source": [
    "print(\"Bonjour tout le monde !\", end=\"\")"
   ]
  },
  {
   "cell_type": "code",
   "execution_count": 9,
   "id": "frequent-income",
   "metadata": {},
   "outputs": [
    {
     "name": "stdout",
     "output_type": "stream",
     "text": [
      "Bonjour tout le monde !\n",
      "Comment allez-vous ?\n"
     ]
    }
   ],
   "source": [
    "print(\"Bonjour tout le monde !\") ; print(\"Comment allez-vous ?\")"
   ]
  },
  {
   "cell_type": "markdown",
   "id": "minute-apartment",
   "metadata": {},
   "source": [
    "**Remarque :** le caractère `;` sert à séparer plusieurs instructions Python sur une même ligne."
   ]
  },
  {
   "cell_type": "code",
   "execution_count": 11,
   "id": "solid-detail",
   "metadata": {},
   "outputs": [
    {
     "name": "stdout",
     "output_type": "stream",
     "text": [
      "Bonjour tout le monde ! Comment allez-vous ?\n"
     ]
    }
   ],
   "source": [
    "print(\"Bonjour tout le monde ! \", end=\"\") ; print(\"Comment allez-vous ?\")"
   ]
  },
  {
   "cell_type": "markdown",
   "id": "spiritual-trading",
   "metadata": {},
   "source": [
    "La fonction `print()` peut afficher le contenu d'une variable quel que soit son type."
   ]
  },
  {
   "cell_type": "code",
   "execution_count": 20,
   "id": "collectible-sally",
   "metadata": {},
   "outputs": [
    {
     "name": "stdout",
     "output_type": "stream",
     "text": [
      "Jean\n",
      "20\n"
     ]
    }
   ],
   "source": [
    "name = \"Jean\" ; age = 20\n",
    "print(name)\n",
    "print(age)"
   ]
  },
  {
   "cell_type": "markdown",
   "id": "valid-population",
   "metadata": {},
   "source": [
    "Il est possible d'afficher le contenu de plusieurs variables (quel que soit leur type) en les séparant par des virgules."
   ]
  },
  {
   "cell_type": "code",
   "execution_count": 31,
   "id": "informal-petroleum",
   "metadata": {},
   "outputs": [
    {
     "name": "stdout",
     "output_type": "stream",
     "text": [
      "Jean a 20 ans\n"
     ]
    }
   ],
   "source": [
    "print(name, \"a\", age, \"ans\")"
   ]
  },
  {
   "cell_type": "markdown",
   "id": "recreational-airfare",
   "metadata": {},
   "source": [
    "**Remarque :** afin d'afficher plusieurs éléments de texte sur une seule ligne, le séparateur `,` a été utilisé entre les différents éléments. Python a également ajouté un **espace** à chaque fois que l'on a utilisé le séparateur `,`. On peut modifier ce comportement en passant à la fonction `print()` l'argument par mot-clé `sep`."
   ]
  },
  {
   "cell_type": "code",
   "execution_count": 32,
   "id": "southwest-german",
   "metadata": {},
   "outputs": [
    {
     "name": "stdout",
     "output_type": "stream",
     "text": [
      "Jeana20ans\n",
      "Jean-a-20-ans\n",
      "Jean*a*20*ans\n"
     ]
    }
   ],
   "source": [
    "print(name, \"a\", age, \"ans\", sep=\"\")\n",
    "print(name, \"a\", age, \"ans\", sep=\"-\")\n",
    "print(name, \"a\", age, \"ans\", sep=\"*\")"
   ]
  },
  {
   "cell_type": "markdown",
   "id": "approximate-battle",
   "metadata": {},
   "source": [
    "Pour afficher deux chaînes de caractères l'une à côté de l'autre sans espace, on peut donc :\n",
    "- les concaténer (rappel : la concaténation se fait avec le symbole `+`),\n",
    "- utiliser l'argument par mot-clé `sep` avec une chaîne de caractères vide"
   ]
  },
  {
   "cell_type": "code",
   "execution_count": 30,
   "id": "divine-antibody",
   "metadata": {},
   "outputs": [
    {
     "name": "stdout",
     "output_type": "stream",
     "text": [
      "chatchien\n",
      "chatchien\n"
     ]
    }
   ],
   "source": [
    "string1 = \"chat\"\n",
    "string2 = \"chien\"\n",
    "print(string1+string2)\n",
    "print(string1, string2, sep=\"\")"
   ]
  },
  {
   "cell_type": "markdown",
   "id": "operational-gathering",
   "metadata": {},
   "source": [
    "## Ecriture formatée"
   ]
  },
  {
   "cell_type": "markdown",
   "id": "biological-garden",
   "metadata": {},
   "source": [
    "La méthode `.format()` permet une meilleure organisation de l'affichage des variables."
   ]
  },
  {
   "cell_type": "code",
   "execution_count": 33,
   "id": "eleven-stylus",
   "metadata": {},
   "outputs": [
    {
     "name": "stdout",
     "output_type": "stream",
     "text": [
      "Jean a 20 ans\n"
     ]
    }
   ],
   "source": [
    "print(\"{} a {} ans\".format(name, age))"
   ]
  },
  {
   "cell_type": "markdown",
   "id": "senior-nigeria",
   "metadata": {},
   "source": [
    "**Remarque :** il est possible d'indiquer l'ordre d'affichage des variables grâce aux accolades `{}`, avec 0 pour la variable à afficher en premier, 1 pour la variable à afficher en second, etc. Cela permet de modifier l'ordre dans lequel sont affichées les variables."
   ]
  },
  {
   "cell_type": "code",
   "execution_count": 35,
   "id": "disturbed-subdivision",
   "metadata": {},
   "outputs": [
    {
     "name": "stdout",
     "output_type": "stream",
     "text": [
      "Jean a 20 ans\n",
      "20 a Jean ans\n"
     ]
    }
   ],
   "source": [
    "print(\"{0} a {1} ans\".format(name, age))\n",
    "print(\"{1} a {0} ans\".format(name, age))"
   ]
  },
  {
   "cell_type": "markdown",
   "id": "driving-headset",
   "metadata": {},
   "source": [
    "Les accolade `{}` peuvent être utilisées également pour spécifier un format afin de faciliter l'écriture du résultat."
   ]
  },
  {
   "cell_type": "code",
   "execution_count": 39,
   "id": "informed-hands",
   "metadata": {},
   "outputs": [
    {
     "name": "stdout",
     "output_type": "stream",
     "text": [
      "34.78797837059809\n"
     ]
    }
   ],
   "source": [
    "i = 34.7879783705980890\n",
    "print(i)"
   ]
  },
  {
   "cell_type": "markdown",
   "id": "seventh-power",
   "metadata": {},
   "source": [
    "On souhaite formater le résultat en un *float* afin de n'afficher que deux décimales puis trois."
   ]
  },
  {
   "cell_type": "code",
   "execution_count": 40,
   "id": "second-uzbekistan",
   "metadata": {},
   "outputs": [
    {
     "name": "stdout",
     "output_type": "stream",
     "text": [
      "34.79\n",
      "34.788\n"
     ]
    }
   ],
   "source": [
    "print(\"{:.2f}\".format(i))\n",
    "print(\"{:.3f}\".format(i))"
   ]
  },
  {
   "cell_type": "markdown",
   "id": "sexual-adrian",
   "metadata": {},
   "source": [
    "**Remarque :** le formatage avec `.xf` (x étant un entier positif) renvoie un résultat arrondi."
   ]
  },
  {
   "cell_type": "markdown",
   "id": "proof-beginning",
   "metadata": {},
   "source": [
    "Il est possible de combiner le formatage (à droite des 2 points) ainsi que l'emplacement des variables à substituer (à gauche des 2 points)."
   ]
  },
  {
   "cell_type": "code",
   "execution_count": 60,
   "id": "alien-position",
   "metadata": {},
   "outputs": [
    {
     "name": "stdout",
     "output_type": "stream",
     "text": [
      "Valeur de i avec 2 décimales = 34.79 et avec 3 décimales = 34.788\n"
     ]
    }
   ],
   "source": [
    "print(\"Valeur de i avec 2 décimales = {0:.2f} et avec 3 décimales = {0:.3f}\".format(i))"
   ]
  },
  {
   "cell_type": "code",
   "execution_count": 59,
   "id": "hybrid-buffer",
   "metadata": {},
   "outputs": [
    {
     "name": "stdout",
     "output_type": "stream",
     "text": [
      "Valeur de i avec 2 décimales = 34.79 et valeur de j avec 3 décimales = 78.903\n"
     ]
    }
   ],
   "source": [
    "j = 78.9028374\n",
    "print(\"Valeur de i avec 2 décimales = {0:.2f} et valeur de j avec 3 décimales = {1:.3f}\".format(i, j))"
   ]
  },
  {
   "cell_type": "markdown",
   "id": "opened-elizabeth",
   "metadata": {},
   "source": [
    "Il est possible de formater des entiers avec la lettre `d`."
   ]
  },
  {
   "cell_type": "code",
   "execution_count": 49,
   "id": "worldwide-backup",
   "metadata": {},
   "outputs": [
    {
     "name": "stdout",
     "output_type": "stream",
     "text": [
      "Nous sommes en 2021 !\n"
     ]
    }
   ],
   "source": [
    "year = 2021\n",
    ">>> print(\"Nous sommes en {:d} !\".format(year))"
   ]
  },
  {
   "cell_type": "markdown",
   "id": "wanted-smoke",
   "metadata": {},
   "source": [
    "Il est possible de préciser sur combien de caractères vous souhaitez qu'un résultat soit écrit et comment se fait l'alignement (à gauche, à droite ou centré).\n",
    "`>` spécifie un alignement à droite, `<` spécifie un alignement à gauche et `^` spécifie un alignement centré. Il est également possible d'indiquer le caractère qui servira de remplissage lors des alignements (l'espace est le caractère par défaut)."
   ]
  },
  {
   "cell_type": "code",
   "execution_count": 51,
   "id": "monthly-blocking",
   "metadata": {},
   "outputs": [
    {
     "name": "stdout",
     "output_type": "stream",
     "text": [
      "11\n",
      "1111\n"
     ]
    }
   ],
   "source": [
    "print(11) ; print(1111)"
   ]
  },
  {
   "cell_type": "code",
   "execution_count": 52,
   "id": "regular-hamburg",
   "metadata": {},
   "outputs": [
    {
     "name": "stdout",
     "output_type": "stream",
     "text": [
      "        11\n",
      "      1111\n"
     ]
    }
   ],
   "source": [
    "print(\"{:>10d}\".format(11)) ; print(\"{:>10d}\".format(1111))"
   ]
  },
  {
   "cell_type": "markdown",
   "id": "bacterial-pricing",
   "metadata": {},
   "source": [
    "**Détails :** Les `:` définissent qu'il va y avoir un formatage, avec un alignement à droite via `>` sur 10 caractères."
   ]
  },
  {
   "cell_type": "code",
   "execution_count": 72,
   "id": "wicked-brush",
   "metadata": {},
   "outputs": [
    {
     "name": "stdout",
     "output_type": "stream",
     "text": [
      "0000110000\n",
      "0001111000\n"
     ]
    }
   ],
   "source": [
    "print(\"{:0^10d}\".format(11)) ; print(\"{:0^10d}\".format(1111))"
   ]
  },
  {
   "cell_type": "markdown",
   "id": "pursuant-bonus",
   "metadata": {},
   "source": [
    "Les `:` définisent qu'il va y avoir un formatage, avec un alignement centré via `^` sur 10 caractères avec un remplissage de `0` (**par défaut : espace**)."
   ]
  },
  {
   "cell_type": "markdown",
   "id": "beautiful-soundtrack",
   "metadata": {},
   "source": [
    "Ce formatage est également possible sur des chaînes de caractères avec la lettre `s` (comme *string*)."
   ]
  },
  {
   "cell_type": "code",
   "execution_count": 57,
   "id": "documentary-blogger",
   "metadata": {},
   "outputs": [
    {
     "name": "stdout",
     "output_type": "stream",
     "text": [
      "gene dnaA\n",
      "gene S2\n"
     ]
    }
   ],
   "source": [
    "print(\"gene dnaA\") ; print(\"gene S2\")"
   ]
  },
  {
   "cell_type": "code",
   "execution_count": 58,
   "id": "imported-tradition",
   "metadata": {},
   "outputs": [
    {
     "name": "stdout",
     "output_type": "stream",
     "text": [
      "gene dnaA\n",
      "gene   S2\n"
     ]
    }
   ],
   "source": [
    "print(\"gene {:>4s}\".format(\"dnaA\")) ; print(\"gene {:>4s}\".format(\"S2\"))"
   ]
  },
  {
   "cell_type": "markdown",
   "id": "tracked-bench",
   "metadata": {},
   "source": [
    "Pour les *floats*, il est possible de combiner le nombre de caractères à afficher avec le nombre de décimales."
   ]
  },
  {
   "cell_type": "code",
   "execution_count": 62,
   "id": "brazilian-current",
   "metadata": {},
   "outputs": [
    {
     "name": "stdout",
     "output_type": "stream",
     "text": [
      "  10.79%\n",
      "     10.79%\n"
     ]
    }
   ],
   "source": [
    "print(\"{:>7.2f}%\".format(10.7899394))\n",
    "print(\"{:>10.2f}%\".format(10.7899394))"
   ]
  },
  {
   "cell_type": "markdown",
   "id": "individual-period",
   "metadata": {},
   "source": [
    "**Remarque :** si on veut afficher des accolades littérales et utiliser la méthode `.format()` en même temps, il faut doubler les accolades pour échapper au formatage."
   ]
  },
  {
   "cell_type": "code",
   "execution_count": 70,
   "id": "pressing-distribution",
   "metadata": {},
   "outputs": [
    {
     "name": "stdout",
     "output_type": "stream",
     "text": [
      "Accolades littérales {} et pour le formatage pas besoin de doubler les accolades !\n"
     ]
    }
   ],
   "source": [
    "print(\"Accolades littérales {{}} et pour le formatage {}\".format(\"pas besoin de doubler les accolades !\"))"
   ]
  }
 ],
 "metadata": {
  "kernelspec": {
   "display_name": "Python 3",
   "language": "python",
   "name": "python3"
  },
  "language_info": {
   "codemirror_mode": {
    "name": "ipython",
    "version": 3
   },
   "file_extension": ".py",
   "mimetype": "text/x-python",
   "name": "python",
   "nbconvert_exporter": "python",
   "pygments_lexer": "ipython3",
   "version": "3.6.12"
  }
 },
 "nbformat": 4,
 "nbformat_minor": 5
}
